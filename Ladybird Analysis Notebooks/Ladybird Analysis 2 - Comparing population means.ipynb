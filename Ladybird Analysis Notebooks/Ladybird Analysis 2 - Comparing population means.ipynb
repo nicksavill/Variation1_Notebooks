{
 "cells": [
  {
   "cell_type": "markdown",
   "id": "3b9048ae",
   "metadata": {},
   "source": [
    "# Ladybird Analysis\n",
    "\n",
    "# Compare the mean sizes of low and high predated two-spot ladybird populations"
   ]
  },
  {
   "cell_type": "markdown",
   "id": "918ac59f",
   "metadata": {},
   "source": [
    "<div class=\"alert alert-success\">\n",
    "\n",
    "# Part 1: Exploring your data\n",
    "</div>"
   ]
  },
  {
   "cell_type": "markdown",
   "id": "fef009d3",
   "metadata": {},
   "source": [
    "## Task 1.1: If you don't have your group's ladybird excel spreadsheet on Noteable, upload it now"
   ]
  },
  {
   "cell_type": "markdown",
   "id": "66a8d711",
   "metadata": {},
   "source": [
    "Follow these instructions to do this:\n",
    "1. Go to Learn and click **Open Microsoft Teams classes** in the left-hand panel.\n",
    "2. Log in to the **Biology 1A Variation (2023-2024) Team**.\n",
    "3. Click on **Files** and locate your group's spreadsheet. For example, if your group is YAK E and your partnering group is YAK F then your spreadsheet is called `ladybird_sizes_YAK_E_F.xlsx`.\n",
    "4. Hover your cursor over your spreadsheet name, click on the three dots and select Download. \n",
    "5. Return to the **Variation1/Ladybird Analysis/** browser tab running **Noteable**.\n",
    "6. Click on **Upload** on the right, find your spreadsheet on your laptop, then click on the **blue Upload** button.\n",
    "7. Make sure your spreadsheet is saved in the **Variation1/Ladybird Analysis** folder. That is, the same folder this Notebook is in."
   ]
  },
  {
   "cell_type": "markdown",
   "id": "501f97f8",
   "metadata": {},
   "source": [
    "## Task 1.2: Read in and print the low and high predation samples to check the data are okay"
   ]
  },
  {
   "cell_type": "markdown",
   "id": "51862156",
   "metadata": {},
   "source": [
    "Using pandas, read in your excel spreadsheet and call it something sensible.\n",
    "\n",
    "1. To read in excel spreadsheets we use the command `pd.read_excel('filename.xlsx')`. Do this now, calling the DataFrame something sensible, such as `ladybirds`.\n",
    "\n",
    "2. Print the data to make sure it is okay. You should see two columns headed `low` and `high`. You will probably see `NaN` repeated at the bottom of one of the columns. This isn't a problem; it's just because different numbers of ladybirds were measured in the two cemeteries."
   ]
  },
  {
   "cell_type": "code",
   "execution_count": null,
   "id": "489b37a7",
   "metadata": {},
   "outputs": [],
   "source": [
    "# read and print your ladybird size dataset"
   ]
  },
  {
   "cell_type": "markdown",
   "id": "477f4bc2",
   "metadata": {},
   "source": [
    "## Task 1.3: Plot the samples in a histogram to see how they are distributed"
   ]
  },
  {
   "cell_type": "markdown",
   "id": "571831b6",
   "metadata": {},
   "source": [
    "Plot the distributions of the low and high predation samples as histograms in a single annotated graph. \n",
    "\n",
    "See [4.2 - Comparing two population means](../Self-study%20Notebooks/4.2%20-%20Comparing%20two%20population%20means.ipynb#First-plot-the-data) for help."
   ]
  },
  {
   "cell_type": "code",
   "execution_count": null,
   "id": "3f010acd",
   "metadata": {},
   "outputs": [],
   "source": [
    "# annotated histograms of samples of two-spot ladybird sizes from low and high predation cemeteries"
   ]
  },
  {
   "cell_type": "markdown",
   "id": "5b60bbc3",
   "metadata": {},
   "source": [
    "## Task 1.4: The distributions might be clearer in a boxplot"
   ]
  },
  {
   "cell_type": "markdown",
   "id": "12e6ca28",
   "metadata": {},
   "source": [
    "Your `low` and `high` histograms will probably overlap quite a lot. This makes it hard to see if the means of the two samples are different.\n",
    "\n",
    "If that is the case, a boxplot is probably a better way to visualise your data as it hides individual data points and instead uses a 5-number-summary to summarise the distribution of your samples. \n",
    "\n",
    "Plot the distributions of the low and high predation samples in an annotated boxplot. \n",
    "\n",
    "See [4.2 - Comparing two population means](../Self-study%20Notebooks/4.2%20-%20Comparing%20two%20population%20means.ipynb#First-plot-the-data) for help."
   ]
  },
  {
   "cell_type": "code",
   "execution_count": null,
   "id": "9109bf07",
   "metadata": {},
   "outputs": [],
   "source": [
    "# a boxplot to visually compare ladybird sizes from low and high predation cemeteries "
   ]
  },
  {
   "cell_type": "markdown",
   "id": "fda92639",
   "metadata": {},
   "source": [
    "## Task 1.5: What does the box and the various lines in a boxplot represent?"
   ]
  },
  {
   "cell_type": "markdown",
   "id": "d29f59ba",
   "metadata": {},
   "source": [
    "If you don't know try googling the answer. Write your answer in the following markdown cell."
   ]
  },
  {
   "cell_type": "markdown",
   "id": "485e61f0",
   "metadata": {},
   "source": [
    "> Write your answer here. "
   ]
  },
  {
   "cell_type": "markdown",
   "id": "8a1719d6",
   "metadata": {},
   "source": [
    "## Task 1.6: Eye-ball estimates of the means and standard deviations"
   ]
  },
  {
   "cell_type": "markdown",
   "id": "1fa3ca70",
   "metadata": {},
   "source": [
    "It is generally a good idea to estimate means and standard deviations by eye before calculating them on a computer. This is so you can check your eye-ball estimates with the actual values output by Python. If they don't match then you know something is wrong: either your estimates or your code.\n",
    "\n",
    "Using your histograms or boxplots, estimate the means and standard deviations of ladybird sizes from both cemeteries. Remember that a rough estimate of the standard deviation is given by this formula\n",
    "\n",
    "$$s \\approx \\frac{\\mathrm{max\\ value} - \\mathrm{min\\ value}}{4}$$\n"
   ]
  },
  {
   "cell_type": "markdown",
   "id": "d2c458a4",
   "metadata": {},
   "source": [
    "> Write your estimates here"
   ]
  },
  {
   "cell_type": "markdown",
   "id": "60b148f0",
   "metadata": {},
   "source": [
    "## Task 1.7: Calculate the sample sizes, means and standard deviations"
   ]
  },
  {
   "cell_type": "markdown",
   "id": "5b798c8e",
   "metadata": {},
   "source": [
    "Now, using Python code, calculate the sample sizes, means and standard deviations of the two samples and print to the appropriate number of decimal places.\n",
    "\n",
    "See Notebook [4.2 - Comparing two population means](../Self-study%20Notebooks/4.2%20-%20Comparing%20two%20population%20means.ipynb#Sample-means-and-standard-deviations) for example code.\n",
    "\n",
    "How do they compare to your eye-ball estimates?"
   ]
  },
  {
   "cell_type": "code",
   "execution_count": null,
   "id": "712f4d74",
   "metadata": {},
   "outputs": [],
   "source": [
    "# sample sizes, sample means and sample standard deviations of both samples"
   ]
  },
  {
   "cell_type": "markdown",
   "id": "1d7c92ac",
   "metadata": {},
   "source": [
    "## Task 1.8: Calculate the *d*-statistic: the absolute difference in sample means"
   ]
  },
  {
   "cell_type": "markdown",
   "id": "3c06a21d",
   "metadata": {},
   "source": [
    "Using the sample means you just calculated, calculate, using Python code, the absolute difference in sample means. We will call this the *d*-statistic. \n",
    "\n",
    "See Notebook [4.2 - Comparing two population means](../Self-study%20Notebooks/4.2%20-%20Comparing%20two%20population%20means.ipynb#The-test-statistic) for the code to do this."
   ]
  },
  {
   "cell_type": "code",
   "execution_count": null,
   "id": "8eee5013",
   "metadata": {},
   "outputs": [],
   "source": [
    "# calculate your observed d-statistic: difference in sample means"
   ]
  },
  {
   "cell_type": "markdown",
   "id": "37e65fa4",
   "metadata": {},
   "source": [
    "<div class=\"alert alert-success\">\n",
    "\n",
    "\n",
    "# Part 2: How likely is the observed difference in your sample means (the *d*-statistic) if the null hypothesis were true? The *p*-value.\n",
    "</div>"
   ]
  },
  {
   "cell_type": "markdown",
   "id": "ec4c5e53",
   "metadata": {},
   "source": [
    "Having looked at your data and calculated the difference in the sample means, you next need to work out how likely that difference is assuming the null hypothesis were true.\n",
    "\n",
    "If that difference is **likely** under the null hypothesis then you have insufficient evidence to reject the null hypothesis.\n",
    "\n",
    "On the other hand, if that difference is **unlikely** under the null hypothesis then you have sufficient evidence to reject the null hypothesis. \n",
    "\n",
    "How likely the observed difference in sample means is under the null hypothesis is called a *p*-value. \n",
    "\n",
    "This is what you are going to calculate now."
   ]
  },
  {
   "cell_type": "markdown",
   "id": "11b24e2b",
   "metadata": {},
   "source": [
    "## Task 2.1: Construct a statistical model of the null hypothesis"
   ]
  },
  {
   "cell_type": "markdown",
   "id": "f2df10f0",
   "metadata": {},
   "source": [
    "To calculate a *p*-value you first need to construct a **statistical model of the null hypothesis**. What this actually means is you will assume that ladybird sizes in the low and high predation populations have identical distributions. (See Notebook [4.2 - Comparing two population means](../Self-study%20Notebooks/4.2%20-%20Comparing%20two%20population%20means.ipynb#Create-a-statistical-model-of-the-sampling-process-assuming-the-null-hypothesis-were-true) for an explanation of a statistical model.)\n",
    "\n",
    "In your model, first let's assume that ladybird sizes are normally distributed. This is a reasonable assumption as sizes of most things in the natural world are normally distributed.\n",
    "\n",
    "Second, **you have to decide** what the mean ($\\mu$) and standard deviation ($\\sigma$) of this normal distribution will be. You should pick values that are close to the means and standard deviations of your samples. For example, you might set $\\mu$ equal to the average of your two sample means and $\\sigma$ to the average of your two sample standard deviations. The actual values you pick will not matter too much so don't spend too long on choosing values.\n",
    "\n",
    "---\n",
    "\n",
    "In the markdown cell below, state the mean ($\\mu$) and standard deviation ($\\sigma$) of the normal distribution of your statistical model."
   ]
  },
  {
   "cell_type": "markdown",
   "id": "e8991dc0",
   "metadata": {},
   "source": [
    "> Write your mean (mu) and standard deviation (sigma) of your statistical model here."
   ]
  },
  {
   "cell_type": "markdown",
   "id": "0d45df0a",
   "metadata": {},
   "source": [
    "## Task 2.2: Simulate a pair of samples from the low and high predation populations under the null hypothesis and calculate the *d*-statistic"
   ]
  },
  {
   "cell_type": "markdown",
   "id": "3e1a2b41",
   "metadata": {},
   "source": [
    "You are now going to simulate the statistical model of the null hypothesis. To start with you will do this for a single pair of samples. This is to make sure your code is working correctly before doing the full simulation. One sample is simulated from the low predation population and the other sample from the high predation population. Even though we are assuming both populations have the same distribution, the simulated samples will be different due to the randomness of sampling. You will calculate the means of these two simulated samples and then calculate the difference in these means, i.e., you will calculate a simulated *d*-statistic. \n",
    "\n",
    "---\n",
    "\n",
    "Follow these steps to perform a single simulation of the statistical model of the null hypothesis: \n",
    "1. Write code to simulate randomly drawing a pair of samples, one each from the low and high predation populations. Remember, the sample sizes (i.e., the number of ladybirds measured) of these simulated samples must match those of your actual samples from the cemeteries. \n",
    "2. Print out the simulated ladybird sizes from both simulated samples.\n",
    "3. Calculate and print the mean ladybird sizes of both simulated samples.\n",
    "4. Calculate and print the *d*-statistic of this pair of simulated samples.\n",
    "\n",
    "You might find it helpful to copy, paste and adapt the code from Notebook [4.2 - Comparing two population means](../Self-study%20Notebooks/4.2%20-%20Comparing%20two%20population%20means.ipynb#simpair).\n",
    "\n",
    "<div class=\"alert alert-info\">\n",
    "\n",
    "Run the code several times to convince yourself that each time you run it you get different random samples with different sample means, resulting in different *d*-statistics.\n",
    "</div>"
   ]
  },
  {
   "cell_type": "code",
   "execution_count": null,
   "id": "ee7b3a90",
   "metadata": {},
   "outputs": [],
   "source": [
    "# using your statistical model, simulate a pair of random samples from the low and high predation populations assuming the null hypothesis were true and calculate the d-statistic"
   ]
  },
  {
   "cell_type": "markdown",
   "id": "e0187d66",
   "metadata": {},
   "source": [
    "## Task 2.3: Construct the sampling distribution of the *d*-statistic"
   ]
  },
  {
   "cell_type": "markdown",
   "id": "74a78841",
   "metadata": {},
   "source": [
    "Now construct and plot the sampling distribution of the *d*-statistic under the null hypothesis. Do this by simulating thousands of pairs of samples and calculating the *d*-statistic for each.\n",
    "\n",
    "To construct and plot the sampling distribution, it may be helpful to copy, paste and adapt the code from [4.2 - Comparing two population means](../Self-study%20Notebooks/4.2%20-%20Comparing%20two%20population%20means.ipynb#samplingdist)."
   ]
  },
  {
   "cell_type": "code",
   "execution_count": null,
   "id": "a3fc7b4e",
   "metadata": {},
   "outputs": [],
   "source": [
    "# construct and plot the sampling distribution of the d-statistic"
   ]
  },
  {
   "cell_type": "markdown",
   "id": "ac249ba4",
   "metadata": {},
   "source": [
    "## Task 2.4: Is your observed *d*-statistic likely or not under the null hypothesis?"
   ]
  },
  {
   "cell_type": "markdown",
   "id": "1d744196",
   "metadata": {},
   "source": [
    "Think about what the sampling distribution of the *d*-statistic means. What it tells you is this. If the null hypothesis were true (i.e., average ladybird sizes are the same in the low and high predation cemeteries) and you kept taking samples from both populations and calculating the difference in their means (the *d*-statistic), the histogram of all those differences would be the sampling distribution you just plotted.\n",
    "\n",
    "If the null hypothesis were actually true, your observed *d*-statistic (the one you calculated from your data) would lie somewhere in this distribution.\n",
    "\n",
    "If your observed *d*-statistic lies far into the tail of the sampling distribution, then your *d*-statistic is unlikely if the null hypothesis were true (because that is what we are assuming when we construct the sampling distribution). Which, of course, suggests then that the null hypothesis is not true and you have sufficient evidence to reject it.\n",
    "\n",
    "On the other hand, if your *d*-statistic lies roughly in the middle of the sampling distribution, then your *d*-statistic is quite likely if the null hypothesis were true. Which means you have insufficient evidence to reject the null hypothesis.\n",
    "\n",
    "By eye-balling your constructed sampling distribution, take a guess on whether your observed *d*-statistic is likely or unlikely under the null hypothesis? \n",
    "\n",
    "Write your answer below with a justification."
   ]
  },
  {
   "cell_type": "markdown",
   "id": "27ea4e38",
   "metadata": {},
   "source": [
    "> Write your answer here."
   ]
  },
  {
   "cell_type": "markdown",
   "id": "2c8a844e",
   "metadata": {},
   "source": [
    "## Task 2.5: Calculate the *p*-value of your *d*-statistic"
   ]
  },
  {
   "cell_type": "markdown",
   "id": "1220007a",
   "metadata": {},
   "source": [
    "You want to put a number (a probability) to how likely your *d*-statistic is if the null hypothesis were true. This is called a *p*-value.\n",
    "\n",
    "Your *p*-value is the probability of obtaining a *d*-statistic as unusually high as what you observed if the null hypothesis were true. That's a bit of a mouthful. It is the area of the upper tail of the sampling distribution to the right of your observed *d*-statistic. \n",
    "\n",
    "---\n",
    "\n",
    "Now calculate the *p*-value of your *d*-statistic. \n",
    "\n",
    "To calculate the *p*-value, it may be helpful to copy and paste the code from [4.2 - Comparing two population means](../Self-study%20Notebooks/4.2%20-%20Comparing%20two%20population%20means.ipynb#pvalue)."
   ]
  },
  {
   "cell_type": "code",
   "execution_count": null,
   "id": "6e21a7eb",
   "metadata": {},
   "outputs": [],
   "source": [
    "# calculate and print the p-value of your observed d-statistic under the null hypothesis"
   ]
  },
  {
   "cell_type": "markdown",
   "id": "1c4dc3a1",
   "metadata": {},
   "source": [
    "<div class=\"alert alert-success\">\n",
    "\n",
    "# Part 3: Two-sample *t*-test in practice\n",
    "</div>"
   ]
  },
  {
   "cell_type": "markdown",
   "id": "1e7b4105",
   "metadata": {},
   "source": [
    "## Task 3.1: Perform a two-sample *t*-test"
   ]
  },
  {
   "cell_type": "markdown",
   "id": "5dcb71c1",
   "metadata": {},
   "source": [
    "The *d*-statistic is the simplest, and most intuitive, measure of the difference between mean ladybird sizes in the low and high predation cemeteries. This is why we have taken you through the process of simulating its sampling distribution to calculate a *p*-value. However, from a practical point-of-view the *d*-statistic is not that useful. Instead we use the *t*-statistic.\n",
    "\n",
    "The great thing about using the *t*-statistic is that we do not need to do any simulations to construct its sampling distribution to calculate a *p*-value. As we saw in the Self-study Notebooks, the sampling distribution of the *t*-statistic is already known; it has a mathematical formula that we can directly plug our data into to get a *p*-value. This means we can use statistical software to perform the statistical test for us and not have to go through the laborious process of coding it ourselves. \n",
    "\n",
    "---\n",
    "\n",
    "Now perform a two-sample *t*-test on your data using Python code. To do this, copy, paste and adapt the code from [4.3 - Two sample *t*-test in practice](../Self-study%20Notebooks/4.3%20-%20Two%20sample%20t-test%20in%20practice.ipynb)."
   ]
  },
  {
   "cell_type": "code",
   "execution_count": null,
   "id": "efbc82b8",
   "metadata": {},
   "outputs": [],
   "source": [
    "# perform a two-sample t-test on your data"
   ]
  },
  {
   "cell_type": "markdown",
   "id": "ba689e87",
   "metadata": {},
   "source": [
    "## Task 3.2: Reject or not reject your null hypothesis"
   ]
  },
  {
   "cell_type": "markdown",
   "id": "334eff8f",
   "metadata": {},
   "source": [
    "At this point we could leave it there: We've stated our hypotheses, collected and analysed the data and calculated how likely our data are under the null hypothesis (i.e., the *p*-value). You could then leave it to other scientists to judge if your data support your biological hypothesis. \n",
    "\n",
    "But scientists, like everyone else, like clear-cut answers: Do your data support your hypothesis or not?\n",
    "\n",
    "Unfortunately there are rarely such clear-cut answers. But scientists have created an illusion of such. \n",
    "\n",
    "To create this illusion, we set a threshold value on our *p*-values. This threshold is a convention (i.e., has no scientific basis) and in the Biological and Medical sciences this threshold is 0.05. It even has a fancy name: **the 95% confidence level**, and given the fancy Greek letter $\\alpha$. This is how the illusion of a clear-cut answer works:\n",
    "\n",
    "If our *p*-value is below 0.05 then we **reject the null hypothesis**. And we say \"There is a **statistically significant** difference between mean ladybird sizes in low and high predation cemeteries.\"\n",
    "\n",
    "If our *p*-value is above 0.05 then we **fail to reject the null hypothesis**. And we say \"There is **no statistically significant difference** between mean ladybird sizes in low and high predation cemeteries.\"\n",
    "\n",
    "What happens if your *p*-value is say 0.051? You've just missed the threshold. All that hard work collecting data and you end up with a boring, non-significant result that is unpublishable. This, of course, leads to scientists trying to find ways to make their *p*-values go below 0.05. This is quite easy to do: remove some data points, use other statistical tests, or even make data up (this does happen, although rarely). Much has been written lately in the scientific literature about why *p*-values promote poor scientific practices.\n",
    "\n",
    "However, all the scientific literature you will read in your studies, and in your later careers, will contain statistical analyses with *p*-values. This is why you need to understand how they are calculated and what they mean.\n",
    "\n",
    "---\n",
    "\n",
    "Based on your *p*-value and a confidence level of $\\alpha=$ 0.05. Do you reject or fail to reject your null hypothesis that mean ladybird sizes are the same in cemeteries with low and high predation rates? Write your answer below.\n",
    "\n",
    "Also see [4.3 - Two sample *t*-test in practice](../Self-study%20Notebooks/4.3%20-%20Two%20sample%20t-test%20in%20practice.ipynb#To-reject-or-not-reject-the-null-hypothesis) for more discussion about rejecting or not rejecting a null hypothesis."
   ]
  },
  {
   "cell_type": "markdown",
   "id": "6aa54cf7",
   "metadata": {},
   "source": [
    "> Do you reject or not reject the null hypothesis? Explain why."
   ]
  },
  {
   "cell_type": "markdown",
   "id": "158aaa33",
   "metadata": {},
   "source": [
    "## Task 3.3: Report the result of your test"
   ]
  },
  {
   "cell_type": "markdown",
   "id": "8b0a4906",
   "metadata": {},
   "source": [
    "There are three possible outcomes of your analysis.\n",
    "\n",
    "1. You fail to reject the null hypothesis. Which means you have no evidence that mean ladybird sizes differ between Edinburgh cemeteries.\n",
    "\n",
    "2. You reject the null hypothesis but mean ladybird sizes are smaller in the high predation cemetery than in the low predation cemetery. Which means you have evidence that mean ladybird sizes differ between Edinburgh cemeteries. But that this difference is not due to Harlequin ladybirds preferring to eat small two-spot ladybirds. Something else must be causing this difference.\n",
    "\n",
    "3. You reject the null hypothesis and mean ladybird sizes are larger in the high predation cemetery than in the low predation cemetery. Which means you have evidence that mean ladybird sizes differ between Edinburgh cemeteries and that this difference is due to Harlequin ladybirds preferring to eat small two-spot ladybirds.\n",
    "\n",
    "Report the outcome of your test in words, as you might write in a report.\n",
    "\n",
    "See [4.3 - Two sample *t*-test in practice](../Self-study%20Notebooks/4.3%20-%20Two%20sample%20t-test%20in%20practice.ipynb#Reporting-the-result-of-the-test) for an example. "
   ]
  },
  {
   "cell_type": "markdown",
   "id": "e512d1bd",
   "metadata": {},
   "source": [
    "> Report the outcome of your test."
   ]
  }
 ],
 "metadata": {
  "kernelspec": {
   "display_name": "Python 3 (ipykernel)",
   "language": "python",
   "name": "python3"
  },
  "language_info": {
   "codemirror_mode": {
    "name": "ipython",
    "version": 3
   },
   "file_extension": ".py",
   "mimetype": "text/x-python",
   "name": "python",
   "nbconvert_exporter": "python",
   "pygments_lexer": "ipython3",
   "version": "3.9.13"
  },
  "varInspector": {
   "cols": {
    "lenName": 16,
    "lenType": 16,
    "lenVar": 40
   },
   "kernels_config": {
    "python": {
     "delete_cmd_postfix": "",
     "delete_cmd_prefix": "del ",
     "library": "var_list.py",
     "varRefreshCmd": "print(var_dic_list())"
    },
    "r": {
     "delete_cmd_postfix": ") ",
     "delete_cmd_prefix": "rm(",
     "library": "var_list.r",
     "varRefreshCmd": "cat(var_dic_list()) "
    }
   },
   "types_to_exclude": [
    "module",
    "function",
    "builtin_function_or_method",
    "instance",
    "_Feature"
   ],
   "window_display": false
  }
 },
 "nbformat": 4,
 "nbformat_minor": 5
}
