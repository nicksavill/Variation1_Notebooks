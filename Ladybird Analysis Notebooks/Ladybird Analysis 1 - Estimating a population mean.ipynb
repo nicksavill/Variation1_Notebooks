{
 "cells": [
  {
   "cell_type": "markdown",
   "id": "3b9048ae",
   "metadata": {},
   "source": [
    "# Ladybird Analysis: Estimating the population mean size of your two-spot ladybirds"
   ]
  },
  {
   "cell_type": "markdown",
   "id": "501f97f8",
   "metadata": {},
   "source": [
    "## Task 1: Read in and print your groups's data"
   ]
  },
  {
   "cell_type": "markdown",
   "id": "51862156",
   "metadata": {},
   "source": [
    "Using pandas, you are now going to read in the Excel spreadsheet you just created.\n",
    "\n",
    "1. Read in your Excel spreadsheet using the command \n",
    "```python\n",
    "pd.read_excel('ladybird_sizes_X_Y_Z.xlsx')\n",
    "```\n",
    "Replace X with your group name (GNU, YAK, FOX, or APE) and Y and Z with your groups' letters. For example, if your group is APE C and your partnering group is GNU D the filename is `ladybird_sizes_GNU_C_D.xlsx`.\n",
    "\n",
    "2. Call the DataFrame something sensible, such as `ladybirds`.\n",
    "\n",
    "3. Print the data to make sure it is okay."
   ]
  },
  {
   "cell_type": "code",
   "execution_count": 1,
   "id": "489b37a7",
   "metadata": {},
   "outputs": [],
   "source": [
    "# read in and print your ladybird size dataset"
   ]
  },
  {
   "cell_type": "markdown",
   "id": "477f4bc2",
   "metadata": {},
   "source": [
    "## Task 2: Plot your group's data"
   ]
  },
  {
   "cell_type": "markdown",
   "id": "571831b6",
   "metadata": {},
   "source": [
    "Plot your two-spot ladybird sizes in an annotated histogram in the following code cell. See [Coding 3 - Working with data](../Coding%20Practicals%20Notebooks/Coding%203%20-%20Working%20with%20data.ipynb#visualising-data) for help.\n",
    "\n",
    "**Only plot your group's data. We'll look at the other group's data in a moment.**.\n",
    "\n",
    "<div class=\"alert alert-success\">\n",
    "\n",
    "Note: In Task 1 you imported pandas and read in your spreadsheet. Jupyter Notebooks remember that you did this. Which means you DO NOT need to import pandas nor read in your spreadsheet again in this and all following code cells.\n",
    "</div>"
   ]
  },
  {
   "cell_type": "code",
   "execution_count": 2,
   "id": "3f010acd",
   "metadata": {},
   "outputs": [],
   "source": [
    "# annotated histogram of two-spot ladybird sizes."
   ]
  },
  {
   "cell_type": "markdown",
   "id": "687c7b29",
   "metadata": {},
   "source": [
    "## Task 3: Check for outliers"
   ]
  },
  {
   "cell_type": "markdown",
   "id": "c920a1ec",
   "metadata": {},
   "source": [
    "A histogram allows you to easily spot any outliers; data that are extremely far from the average. Perhaps the wrong species was measured. If you think any of the data are outliers you'll need to go back to your spreadsheet in Teams, update the excel spreadsheet and re-upload to Noteable."
   ]
  },
  {
   "cell_type": "markdown",
   "id": "8a1719d6",
   "metadata": {},
   "source": [
    "## Task 4: Eye-ball estimates of the mean and standard deviation"
   ]
  },
  {
   "cell_type": "markdown",
   "id": "1fa3ca70",
   "metadata": {},
   "source": [
    "It is generally a good idea to estimate means and standard deviations by eye before calculating them on a computer. This is so you can check your eye-ball estimates with the actual values output by Python. If they don't match then you know something is wrong: either your estimates or the Python code.\n",
    "\n",
    "Using your histogram, estimate the mean and standard deviation of ladybird sizes. Remember that a rough estimate of the standard deviation is given by this formula\n",
    "\n",
    "$$s \\approx \\frac{\\mathrm{max\\ value} - \\mathrm{min\\ value}}{4}$$\n"
   ]
  },
  {
   "cell_type": "markdown",
   "id": "d2c458a4",
   "metadata": {},
   "source": [
    "> Write your estimates here"
   ]
  },
  {
   "cell_type": "markdown",
   "id": "60b148f0",
   "metadata": {},
   "source": [
    "## Task 5: Calculate the sample size, mean and standard deviation"
   ]
  },
  {
   "cell_type": "markdown",
   "id": "5b798c8e",
   "metadata": {},
   "source": [
    "Now, using Python code, calculate the sample size, mean and standard deviation of your data in the following code cell to the appropriate number of decimal places. (See Notebook [3.5 - Estimating a population mean](../Self-study%20Notebooks/3.5%20-%20Estimating%20a%20population%20mean.ipynb#95ci))\n",
    "\n",
    "How do they compare to your eye-ball estimates?"
   ]
  },
  {
   "cell_type": "code",
   "execution_count": 3,
   "id": "712f4d74",
   "metadata": {},
   "outputs": [],
   "source": [
    "# sample size, sample mean and sample standard deviation"
   ]
  },
  {
   "cell_type": "markdown",
   "id": "1d7c92ac",
   "metadata": {},
   "source": [
    "## Task 6: Check if your data obey the 68-95-99.7% rule"
   ]
  },
  {
   "cell_type": "markdown",
   "id": "3c06a21d",
   "metadata": {},
   "source": [
    "Now you should check to see if your data are roughly normally distributed.\n",
    "\n",
    "1. Check if roughly 68% of your data lie within one standard deviation of the mean using Python code.\n",
    "2. Do you think your data are normally distributed?\n",
    "\n",
    "<div class=\"alert alert-info\">\n",
    "\n",
    "To do this task you will need to calculate, using Python code, the range from the mean minus one standard deviation to the mean plus one standard deviation. Then count how many ladybirds had sizes within this range. Is that roughly 68% of your data? \n",
    "    \n",
    "See the example in Notebook [3.3 Normal distribution](../Self-study%20Notebooks/3.3%20-%20Normal%20distribution.ipynb) for how to answer this Task.\n",
    "</div>"
   ]
  },
  {
   "cell_type": "code",
   "execution_count": 4,
   "id": "8eee5013",
   "metadata": {},
   "outputs": [],
   "source": [
    "# check if roughly 68% of your data are within one standard deviation of the mean"
   ]
  },
  {
   "cell_type": "markdown",
   "id": "11b24e2b",
   "metadata": {},
   "source": [
    "## Task 7: Calculate the precision of your estimate of the population mean"
   ]
  },
  {
   "cell_type": "markdown",
   "id": "f2df10f0",
   "metadata": {},
   "source": [
    "Calculate the standard error of the mean and the 95% confidence interval of the mean. (See Notebook [3.5 - Estimating a population mean](../Self-study%20Notebooks/3.5%20-%20Estimating%20a%20population%20mean.ipynb#How-to-calculate-the-standard-error-of-the-mean-(SEM)))"
   ]
  },
  {
   "cell_type": "code",
   "execution_count": 5,
   "id": "0d8e7f20",
   "metadata": {},
   "outputs": [],
   "source": [
    "# standard error and 95% confidence interval"
   ]
  },
  {
   "cell_type": "markdown",
   "id": "0d45df0a",
   "metadata": {},
   "source": [
    "## Task 8: Report your estimate of the population mean"
   ]
  },
  {
   "cell_type": "markdown",
   "id": "3e1a2b41",
   "metadata": {},
   "source": [
    "Write a short sentence below reporting the estimate and precision of the population mean. (See Notebook [3.5 - Estimating a population mean](../Self-study%20Notebooks/3.5%20-%20Estimating%20a%20population%20mean.ipynb#Reporting-the-estimate-of-the-population-mean-and-its-standard-error))"
   ]
  },
  {
   "cell_type": "markdown",
   "id": "200694ae",
   "metadata": {},
   "source": [
    "> Report your estimate and precision"
   ]
  },
  {
   "cell_type": "markdown",
   "id": "1e82272f",
   "metadata": {},
   "source": [
    "## Task 9: Calculate the estimate and precision of the population mean of the other group's data"
   ]
  },
  {
   "cell_type": "markdown",
   "id": "7e0e33df",
   "metadata": {},
   "source": [
    "Repeat Tasks 5, 7 and 8 for the other group's data."
   ]
  },
  {
   "cell_type": "code",
   "execution_count": null,
   "id": "4c9c186b",
   "metadata": {},
   "outputs": [],
   "source": []
  },
  {
   "cell_type": "markdown",
   "id": "794bedc7",
   "metadata": {},
   "source": [
    "> Report your estimate and precision"
   ]
  },
  {
   "cell_type": "markdown",
   "id": "c74059f9",
   "metadata": {},
   "source": [
    "## Task 10: Simulate the sampling distribution of the population mean"
   ]
  },
  {
   "cell_type": "markdown",
   "id": "d84f4aad",
   "metadata": {},
   "source": [
    "In Notebook [3.5 - Estimating a population mean](../Self-study%20Notebooks/3.5%20-%20Estimating%20a%20population%20mean.ipynb#But-how-precise-is-the-estimate-of-the-population-mean?) we did a thought-experiment where we  repeatedly selected two finches from a population of finches and measured their beak depths. For each sample of two, we estimated the mean beak depth of the entire population. We plotted the histogram of all of these estimates of the population mean to create a sampling distribution of the population mean. \n",
    "\n",
    "Now, you will perform a similar thought experiment, but instead of finch beak depths, you will work with ladybird sizes. You will use Python code to simulate the experiment. Simulation is a powerful technique used in various fields such as science, engineering, and administration. In statistics, it is used for hypothesis testing and provides an intuitive way to understand complex statistical concepts. Don't worry, we'll take you through this step by step with example code. \n",
    "\n",
    "Next week you will use simulation to see how we can test if two population means are the same or different. \n",
    "\n",
    "Here's what you will learn today\n",
    "\n",
    "1. How to conduct a simulation.\n",
    "2. How to create a simulated sampling distribution.\n",
    "3. Convince yourself that the standard deviation of your simulated sampling distribution, known as the standard error, is equal to $\\frac{\\sigma}{\\sqrt{n}}$.\n",
    "\n",
    "Work through the following steps."
   ]
  },
  {
   "cell_type": "markdown",
   "id": "35869763",
   "metadata": {},
   "source": [
    "### Step 1. Create a statistical model of the sampling process"
   ]
  },
  {
   "cell_type": "markdown",
   "id": "1d2fded7",
   "metadata": {},
   "source": [
    "A thought experiment is a simplified representation, or model, of reality. Models can take various forms, like a paper aeroplane representing a real aeroplane or computer simulations of the weather.\n",
    "\n",
    "In our case, the thought experiment involves estimating the population mean based on a sample of two ladybird sizes. This serves as a **statistical model** for the ladybird sampling you did last week. The statistical model simplifies the actual population of ladybird sizes in the graveyard since it's impossible to sample every single ladybird.\n",
    "\n",
    "For our model we make three reasonable assumptions about the population of ladybird sizes:\n",
    "\n",
    "1. Ladybird sizes have a normal distribution. This is reasonable since many characteristics of living organisms are normally distributed.\n",
    "2. The population mean ladybird size, denoted as $\\mu$, is 6 mm.\n",
    "3. The population standard deviation of ladybird size, denoted as $\\sigma$, is 1 mm.\n",
    "\n",
    "With these assumptions in place, you can proceed to simulate the process of taking samples from this simplified statistical model of the ladybird population."
   ]
  },
  {
   "cell_type": "markdown",
   "id": "826dbe95",
   "metadata": {},
   "source": [
    "### Step 2. Simulate random sampling from the population"
   ]
  },
  {
   "cell_type": "markdown",
   "id": "a108c5a3",
   "metadata": {},
   "source": [
    "To perform simulation you need to generate random numbers (like rolling a dice many times). In this case you need to generate random numbers from a normal distribution. Each random number you generate will correspond to a single ladybird's size. \n",
    "\n",
    "Python doesn't do this for you, so you first need to import a module that generates random samples drawn from a normal distribution with this code:\n",
    "\n",
    "```python\n",
    "from numpy.random import normal\n",
    "```\n",
    "\n",
    "The following line of code simulates drawing `n` random numbers from a normal distribution of mean `mu` and standard deviation `sigma`. It stores the randomly generated `n` numbers in a list called `sizes`.\n",
    "\n",
    "```python\n",
    "sizes = normal(mu, sigma, n)\n",
    "```\n",
    "\n",
    "1. Write some code below that simulates sampling sizes of *n* = 2 ladybirds from a population of ladybirds with mean size $\\mu$ = 6 mm and standard deviation $\\sigma$ = 1 mm.\n",
    "2. Print the simulated sample of the two ladybird sizes.\n",
    "3. Run the code several times to convince yourself that on each run you generate two different random ladybird sizes.\n",
    "\n",
    "Note that the generated numbers are printed to eight decimal places. In reality we wouldn't be able to measure ladybird sizes to that precision. But for the purposes of this exercise it doesn't matter how precise these numbers are."
   ]
  },
  {
   "cell_type": "code",
   "execution_count": 6,
   "id": "da6bc2db",
   "metadata": {},
   "outputs": [],
   "source": [
    "# simulate sampling n = 2 ladybird sizes from a population distributed normally with mean mu = 6 mm and standard deviation sigma = 1 mm\n"
   ]
  },
  {
   "cell_type": "markdown",
   "id": "bddb8b2d",
   "metadata": {},
   "source": [
    "### Step 3. Simulate many samples"
   ]
  },
  {
   "cell_type": "markdown",
   "id": "5d91ac59",
   "metadata": {},
   "source": [
    "In Step 2 you simulated a single sample of two ladybird sizes. To construct the sampling distribution you'll need to simulate thousands of samples. \n",
    "\n",
    "The following line of code simulates `m` samples of size `n` from a normal distribution of mean `mu` and standard deviation `sigma`.\n",
    "\n",
    "```python\n",
    "sizes = normal( mu, sigma, (n, m) )\n",
    "```\n",
    "\n",
    "1. Write some code below that simulates *m* = 10,000 samples of *n* = 2 ladybirds each from a population with mean size $\\mu$ = 6 mm and standard deviation $\\sigma$ = 1 mm.\n",
    "2. Print the simulated samples. You should see two rows of numbers. Only the first and last three numbers of the 10,000 numbers in each row are printed."
   ]
  },
  {
   "cell_type": "code",
   "execution_count": 7,
   "id": "68a8454f",
   "metadata": {},
   "outputs": [],
   "source": [
    "# simulate m = 10,000 samples of n = 2 ladybird sizes from a population distributed normally with mean mu = 6 mm and standard deviation sigma = 1 mm"
   ]
  },
  {
   "cell_type": "markdown",
   "id": "8545ea4c",
   "metadata": {},
   "source": [
    "### Step 4. Calculate the sample means"
   ]
  },
  {
   "cell_type": "markdown",
   "id": "10a2b9c9",
   "metadata": {},
   "source": [
    "Now calculate and print the 10,000 means of the 10,000 samples with the following line of code and print.\n",
    "\n",
    "```python\n",
    "xbars = sizes.mean(axis=0)\n",
    "```\n",
    "\n",
    "The `axis=0` part makes Python calculate the means of each column of `sizes`. (Alternatively, `axis=1` calculates the means in each row, but that's not what we want.)"
   ]
  },
  {
   "cell_type": "code",
   "execution_count": 8,
   "id": "87fdaf14",
   "metadata": {},
   "outputs": [],
   "source": [
    "# calculate the sample means"
   ]
  },
  {
   "cell_type": "markdown",
   "id": "568868a6",
   "metadata": {},
   "source": [
    "### Step 5. Plot the histogram of sample means"
   ]
  },
  {
   "cell_type": "markdown",
   "id": "c4b75d45",
   "metadata": {},
   "source": [
    "Use seaborn to plot a histogram of the sample means. \n",
    "\n",
    "You should see a histogram centred on 6 mm with a range from about 4 mm to 8 mm."
   ]
  },
  {
   "cell_type": "code",
   "execution_count": 9,
   "id": "89d3912e",
   "metadata": {},
   "outputs": [],
   "source": [
    "# plot the sampling distribution"
   ]
  },
  {
   "cell_type": "markdown",
   "id": "f5c8f9c0",
   "metadata": {},
   "source": [
    "### Step 6. Calculate the standard deviation of the distribution of sample means (i.e., the standard error) "
   ]
  },
  {
   "cell_type": "markdown",
   "id": "b1a4d5bf",
   "metadata": {},
   "source": [
    "Well done, you've simulated the sampling distribution of the sample mean. \n",
    "\n",
    "The standard deviation of your simulated sampling distribution, known as the standard error, is found with the line of code\n",
    "\n",
    "```python\n",
    "sem = xbars.std()\n",
    "```\n",
    "\n",
    "<div class=\"alert alert-info\">\n",
    "\n",
    "Your answer should be about 0.71 mm\n",
    "</div>"
   ]
  },
  {
   "cell_type": "code",
   "execution_count": 10,
   "id": "0a078371",
   "metadata": {},
   "outputs": [],
   "source": [
    "# calculate the standard error of the sampling distribution (the standard deviation of the distribution of sample means)"
   ]
  },
  {
   "cell_type": "markdown",
   "id": "9c1a1fc8",
   "metadata": {},
   "source": [
    "### Step 7. Compare the simulated standard error with the formula for the standard error"
   ]
  },
  {
   "cell_type": "markdown",
   "id": "20a85166",
   "metadata": {},
   "source": [
    "In Self-study notebook [3.5 - Estimating a population mean](../Self-study%20Notebooks/3.5%20-%20Estimating%20a%20population%20mean.ipynb#Standard-error-of-the-mean) we stated that the theoretical standard error of the sampling distribution equals the standard deviation of the population ($\\sigma$) divided by the square root of the sample size ($n$):\n",
    "\n",
    "$$ \\mathrm{SEM} = \\frac{\\sigma}{\\sqrt{n}}$$\n",
    "\n",
    "Using Python code, substitute the values of $\\sigma$ and $n$ into this equation to calculate SEM. Hopefully your simulated standard error (which you calculated in Step 6) should be a close match to that given by the formula."
   ]
  },
  {
   "cell_type": "code",
   "execution_count": 11,
   "id": "6673d552",
   "metadata": {},
   "outputs": [],
   "source": [
    "# calculate the standard error using the formula sigma/square root(n)"
   ]
  },
  {
   "cell_type": "markdown",
   "id": "ea18f61e",
   "metadata": {},
   "source": [
    "### Step 8. Repeat with different samples sizes"
   ]
  },
  {
   "cell_type": "markdown",
   "id": "eca5f7bb",
   "metadata": {},
   "source": [
    "Try repeating the process from Step 3 onward changing the sample size to see how the width of the sampling distribution changes."
   ]
  },
  {
   "cell_type": "markdown",
   "id": "9ae2477c",
   "metadata": {},
   "source": [
    "## Conclusion"
   ]
  },
  {
   "cell_type": "markdown",
   "id": "259b256c",
   "metadata": {},
   "source": [
    "What was the purpose of simulating the sampling distribution? \n",
    "\n",
    "You intuitively know that larger sample sizes result in more precise estimates of the average of the thing you are measuring. Averaging the sizes of one thousand ladybirds gives a more precise estimate of their sizes than, say, averaging just two ladybirds. \n",
    "\n",
    "Simulating the sampling distribution demonstrates how this intuition arises; it gives you a deeper insight into the behaviour and characteristics of the sample mean that you obtain from repeated sampling. It also helps you understand where theoretical formula, like $ \\mathrm{SEM} = \\frac{\\sigma}{\\sqrt{n}}$, come from. \n",
    "\n",
    "Next week you'll be using simulation to test the hypothesis that differences in the size of two spot lady birds at different sites is caused by differences in the level of predation by Harlequin ladybirds."
   ]
  }
 ],
 "metadata": {
  "kernelspec": {
   "display_name": "Python 3 (ipykernel)",
   "language": "python",
   "name": "python3"
  },
  "language_info": {
   "codemirror_mode": {
    "name": "ipython",
    "version": 3
   },
   "file_extension": ".py",
   "mimetype": "text/x-python",
   "name": "python",
   "nbconvert_exporter": "python",
   "pygments_lexer": "ipython3",
   "version": "3.9.13"
  },
  "varInspector": {
   "cols": {
    "lenName": 16,
    "lenType": 16,
    "lenVar": 40
   },
   "kernels_config": {
    "python": {
     "delete_cmd_postfix": "",
     "delete_cmd_prefix": "del ",
     "library": "var_list.py",
     "varRefreshCmd": "print(var_dic_list())"
    },
    "r": {
     "delete_cmd_postfix": ") ",
     "delete_cmd_prefix": "rm(",
     "library": "var_list.r",
     "varRefreshCmd": "cat(var_dic_list()) "
    }
   },
   "types_to_exclude": [
    "module",
    "function",
    "builtin_function_or_method",
    "instance",
    "_Feature"
   ],
   "window_display": false
  }
 },
 "nbformat": 4,
 "nbformat_minor": 5
}
