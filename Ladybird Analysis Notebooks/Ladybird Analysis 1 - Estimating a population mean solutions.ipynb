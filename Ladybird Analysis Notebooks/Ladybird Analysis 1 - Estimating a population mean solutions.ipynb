{
 "cells": [
  {
   "cell_type": "markdown",
   "id": "3b9048ae",
   "metadata": {},
   "source": [
    "# Ladybird Analysis: Estimating the population mean size of your two-spot ladybirds"
   ]
  },
  {
   "cell_type": "markdown",
   "id": "e669eb02",
   "metadata": {},
   "source": [
    "<div class=\"alert alert-success\">\n",
    "\n",
    "For this solution I am using ladybird data collected from one of last year's groups.\n",
    "</div>"
   ]
  },
  {
   "cell_type": "markdown",
   "id": "501f97f8",
   "metadata": {},
   "source": [
    "## Task 1: Read in and print your groups's data"
   ]
  },
  {
   "cell_type": "markdown",
   "id": "51862156",
   "metadata": {},
   "source": [
    "Using pandas, you are now going to read in the excel spreadsheet and call it something sensible.\n",
    "\n",
    "1. In the Self-study notebooks we read in csv data files with the pandas command `pd.read_csv(filename)`. To read in excel spreadsheets we use the command `pd.read_excel(filename)`. Do this now, calling the DataFrame something sensible, such as `ladybirds`.\n",
    "\n",
    "2. Print the data to make sure it is okay."
   ]
  },
  {
   "cell_type": "code",
   "execution_count": null,
   "id": "d30db849",
   "metadata": {},
   "outputs": [],
   "source": [
    "# read and print your ladybird size dataset\n",
    "\n",
    "import pandas as pd\n",
    "\n",
    "ladybirds = pd.read_excel('ladybird_sizes_demo.xlsx')\n",
    "\n",
    "ladybirds"
   ]
  },
  {
   "cell_type": "markdown",
   "id": "477f4bc2",
   "metadata": {},
   "source": [
    "## Task 2: Plot your group's data"
   ]
  },
  {
   "cell_type": "markdown",
   "id": "571831b6",
   "metadata": {},
   "source": [
    "Plot your two-spot ladybird sizes in an annotated histogram in the following code cell."
   ]
  },
  {
   "cell_type": "code",
   "execution_count": null,
   "id": "3f010acd",
   "metadata": {},
   "outputs": [],
   "source": [
    "# Annotated histogram of two-spot ladybird sizes.\n",
    "\n",
    "import seaborn as sns\n",
    "\n",
    "g = sns.displot(ladybirds['low'])\n",
    "\n",
    "# Add some useful annotation to help others understand what the graph contains\n",
    "g.ax.set_xlabel('Size (mm)')\n",
    "g.ax.set_ylabel('Number of ladybirds')\n",
    "g.ax.set_title('Sizes of two-spot ladybirds collected from a cemetery');\n"
   ]
  },
  {
   "cell_type": "markdown",
   "id": "687c7b29",
   "metadata": {},
   "source": [
    "## Task 3: Check for outliers"
   ]
  },
  {
   "cell_type": "markdown",
   "id": "c920a1ec",
   "metadata": {},
   "source": [
    "No outliers in this data"
   ]
  },
  {
   "cell_type": "markdown",
   "id": "8a1719d6",
   "metadata": {},
   "source": [
    "## Task 4: Eye-ball estimates of the mean and standard deviation"
   ]
  },
  {
   "cell_type": "markdown",
   "id": "1fa3ca70",
   "metadata": {},
   "source": [
    "Using your histogram, estimate the mean and standard deviation of ladybird sizes. Remember that a rough estimate of the standard deviation is given by this formula\n",
    "\n",
    "$$s \\approx \\frac{\\mathrm{max\\ value} - \\mathrm{min\\ value}}{4}$$\n"
   ]
  },
  {
   "cell_type": "markdown",
   "id": "29162428",
   "metadata": {},
   "source": [
    "mean is about 4.0 mm\n",
    "s is about (6-3)/4 = 0.75 mm"
   ]
  },
  {
   "cell_type": "markdown",
   "id": "60b148f0",
   "metadata": {},
   "source": [
    "## Task 5: Calculate the sample size, mean and standard deviation"
   ]
  },
  {
   "cell_type": "markdown",
   "id": "5b798c8e",
   "metadata": {},
   "source": [
    "Now, using Python code, calculate the sample size, mean and standard deviation of your data in the following code cell to the appropriate number of decimal places.\n",
    "\n",
    "How do they compare to your eye-ball estimates?"
   ]
  },
  {
   "cell_type": "code",
   "execution_count": null,
   "id": "712f4d74",
   "metadata": {},
   "outputs": [],
   "source": [
    "# sample size, sample mean and sample standard deviation\n",
    "\n",
    "n = ladybirds['low'].count()   # sample size\n",
    "xbar = ladybirds['low'].mean() # sample mean\n",
    "s = ladybirds['low'].std()     # sample standard deviation\n",
    "\n",
    "print(f'sample size = {n} ladybirds')\n",
    "print(f'mean = {xbar:.2f} mm')\n",
    "print(f'st. dev. = {s:.2f} mm')"
   ]
  },
  {
   "cell_type": "markdown",
   "id": "1d7c92ac",
   "metadata": {},
   "source": [
    "## Task 6: Check if your data obey the 68-95-99.7% rule"
   ]
  },
  {
   "cell_type": "markdown",
   "id": "3c06a21d",
   "metadata": {},
   "source": [
    "Now you should check to see if your data are roughly normally distributed.\n",
    "\n",
    "1. Check if 68% of your data lie within one standard deviation of the mean using Python code.\n",
    "    - Unless you have measured over a hundred ladybirds, you won't be able to check the 95% and 99.7% parts of the rule.\n",
    "2. Do you think your data are normally distributed?"
   ]
  },
  {
   "cell_type": "code",
   "execution_count": null,
   "id": "8eee5013",
   "metadata": {},
   "outputs": [],
   "source": [
    "# check if 68% of your data are within one standard deviation of the mean\n",
    "\n",
    "print(f'expected number of ladybirds within 1 st. dev. of the mean = {0.68*n:.1f}')\n",
    "\n",
    "# Set tally of ladybird sizes within one standard deviation of the mean to zero.\n",
    "count = 0\n",
    "\n",
    "# Loop through ladybird sizes one at a time.\n",
    "for size in ladybirds['low']:\n",
    "    \n",
    "    # If this ladybird's size is within one standard deviation of the mean increment tally by 1. \n",
    "    if xbar - s < size < xbar + s:\n",
    "        count += 1\n",
    "\n",
    "print( f'within 1 st. dev. of the mean is between {xbar - s:.2f} mm and {xbar + s:.2f} mm' )\n",
    "print( f'{count} ladybirds are within 1 st. dev. of the mean' )\n",
    "print('perhaps not quite normally distributed')"
   ]
  },
  {
   "cell_type": "markdown",
   "id": "65500f21",
   "metadata": {},
   "source": [
    "## Task 7: Calculate the precision of your estimate of the population mean"
   ]
  },
  {
   "cell_type": "markdown",
   "id": "4be013d9",
   "metadata": {},
   "source": [
    "Calculate the standard error of the mean and the 95% confidence interval of the mean."
   ]
  },
  {
   "cell_type": "code",
   "execution_count": null,
   "id": "2522bf0d",
   "metadata": {},
   "outputs": [],
   "source": [
    "import math\n",
    "\n",
    "SEM = s / math.sqrt(n)   # the standard error of the mean for the 1976 finches\n",
    "\n",
    "print(f'SEM = {SEM:.2f} mm')\n",
    "\n",
    "lower_limit = xbar - 2 * SEM   # Lower limit of 95% CI\n",
    "upper_limit = xbar + 2 * SEM   # Upper limit of 95% CI\n",
    "\n",
    "print(f'lower limit = {lower_limit:.2f} mm')\n",
    "print(f'upper limit = {upper_limit:.2f} mm')\n"
   ]
  },
  {
   "cell_type": "markdown",
   "id": "bb0ddd94",
   "metadata": {},
   "source": [
    "## Task 8: Report your 95% confidence interval"
   ]
  },
  {
   "cell_type": "markdown",
   "id": "98126d76",
   "metadata": {},
   "source": [
    "Write a short sentence below reporting your confidence interval."
   ]
  },
  {
   "cell_type": "markdown",
   "id": "fb9e26e1",
   "metadata": {},
   "source": [
    "Mean ladybird size is 4.62 mm (95% CI: 4.43 - 4.80 mm)\n",
    "\n",
    "Mean ladybird size is 4.62 mm (SEM: 0.09 mm)"
   ]
  },
  {
   "cell_type": "markdown",
   "id": "32c3ed6d",
   "metadata": {},
   "source": [
    "## Task 9: Calculate the estimate and precision of the population mean of the other group's data"
   ]
  },
  {
   "cell_type": "markdown",
   "id": "68d8d081",
   "metadata": {},
   "source": [
    "Repeat Tasks 5, 7 and 8 for the other group's data."
   ]
  },
  {
   "cell_type": "code",
   "execution_count": null,
   "id": "209a1276",
   "metadata": {},
   "outputs": [],
   "source": [
    "# sample size, sample mean and sample standard deviation\n",
    "\n",
    "n = ladybirds['high'].count()   # sample size\n",
    "xbar = ladybirds['high'].mean() # sample mean\n",
    "s = ladybirds['high'].std()     # sample standard deviation\n",
    "\n",
    "print(f'sample size = {n} ladybirds')\n",
    "print(f'mean = {xbar:.2f} mm')\n",
    "print(f'st. dev. = {s:.2f} mm')\n",
    "\n",
    "SEM = s / math.sqrt(n)   # the standard error of the mean for the 1976 finches\n",
    "\n",
    "print(f'SEM = {SEM:.2f} mm')\n",
    "\n",
    "lower_limit = xbar - 2 * SEM   # Lower limit of 95% CI\n",
    "upper_limit = xbar + 2 * SEM   # Upper limit of 95% CI\n",
    "\n",
    "print(f'lower limit = {lower_limit:.2f} mm')\n",
    "print(f'upper limit = {upper_limit:.2f} mm')\n"
   ]
  },
  {
   "cell_type": "markdown",
   "id": "f912121e",
   "metadata": {},
   "source": [
    "Mean ladybird size is 4.97 mm (95% CI: 4.76 - 5.18 mm)\n",
    "\n",
    "Mean ladybird size is 4.97 mm (SEM: 0.11 mm)\n"
   ]
  },
  {
   "cell_type": "markdown",
   "id": "4a9404be",
   "metadata": {},
   "source": [
    "## Task 10: Simulate the sampling distribution of the population mean"
   ]
  },
  {
   "cell_type": "markdown",
   "id": "834612b4",
   "metadata": {},
   "source": [
    "### Step 1. Create a statistical model of the sampling process"
   ]
  },
  {
   "cell_type": "markdown",
   "id": "2ef3c0cb",
   "metadata": {},
   "source": [
    "Make the following three realistic assumptions about the population of ladybird sizes:\n",
    "\n",
    "1. Ladybird sizes are normally distributed.\n",
    "2. The population mean ladybird size is $\\mu$ = 6 mm.\n",
    "3. The population standard deviation of ladybird size is $\\sigma$ = 1 mm."
   ]
  },
  {
   "cell_type": "markdown",
   "id": "545da1bb",
   "metadata": {},
   "source": [
    "### Step 2. Simulate random sampling from the population"
   ]
  },
  {
   "cell_type": "markdown",
   "id": "7f5d4f4d",
   "metadata": {},
   "source": [
    "1. Write some code below that simulates sampling $n$ = 2 ladybirds from a population with mean size $\\mu$ = 6 mm and standard deviation $\\sigma$ = 1 mm.\n",
    "2. Print the simulated sample of the two ladybird sizes.\n",
    "3. Run the code several times to convince yourself that on each run you generate two different random ladybird sizes."
   ]
  },
  {
   "cell_type": "code",
   "execution_count": null,
   "id": "8605c08e",
   "metadata": {},
   "outputs": [],
   "source": [
    "from numpy.random import normal\n",
    "\n",
    "mu = 6\n",
    "sigma = 1\n",
    "n = 2\n",
    "\n",
    "sizes = normal(mu, sigma, n)\n",
    "\n",
    "print(sizes)"
   ]
  },
  {
   "cell_type": "markdown",
   "id": "4a007287",
   "metadata": {},
   "source": [
    "### Step 3. Simulate many samples"
   ]
  },
  {
   "cell_type": "markdown",
   "id": "e52e51c2",
   "metadata": {},
   "source": [
    "1. Write some code below that simulates $m$ = 10,000 samples of $n$ = 2 ladybirds each from a population with mean size $\\mu$ = 6 mm and standard deviation $\\sigma$ = 1 mm.\n",
    "2. Print the simulated samples. You should see two rows of numbers. Only the first and last three numbers of the 10,000 numbers in each row are printed."
   ]
  },
  {
   "cell_type": "code",
   "execution_count": null,
   "id": "5b74238e",
   "metadata": {},
   "outputs": [],
   "source": [
    "m = 10000\n",
    "\n",
    "sizes = normal( mu, sigma, (n, m) )\n",
    "\n",
    "print(sizes)"
   ]
  },
  {
   "cell_type": "markdown",
   "id": "9d35f98a",
   "metadata": {},
   "source": [
    "### Step 4. Calculate the sample means"
   ]
  },
  {
   "cell_type": "markdown",
   "id": "19ee5ed7",
   "metadata": {},
   "source": [
    "Now calculate and print the 10,000 means of all 10,000 samples with the following line of code and print.\n"
   ]
  },
  {
   "cell_type": "code",
   "execution_count": null,
   "id": "99e33cac",
   "metadata": {},
   "outputs": [],
   "source": [
    "xbars = sizes.mean(axis=0)\n",
    "\n",
    "print(xbars)"
   ]
  },
  {
   "cell_type": "markdown",
   "id": "86b1b8d2",
   "metadata": {},
   "source": [
    "### Step 5. Plot the histogram of sample means"
   ]
  },
  {
   "cell_type": "code",
   "execution_count": null,
   "id": "3e511650",
   "metadata": {},
   "outputs": [],
   "source": [
    "g = sns.displot(xbars)\n",
    "\n",
    "g.ax.set_xlabel('mean ladybird size (mm)')\n",
    "g.ax.set_title('Mean ladybird size of samples of size 2');"
   ]
  },
  {
   "cell_type": "markdown",
   "id": "7428882a",
   "metadata": {},
   "source": [
    "### Step 6. Calculate the standard deviation of the distribution of sample means (i.e., the standard error) "
   ]
  },
  {
   "cell_type": "code",
   "execution_count": null,
   "id": "d25a0ea1",
   "metadata": {},
   "outputs": [],
   "source": [
    "sem = xbars.std()\n",
    "\n",
    "print(sem)"
   ]
  },
  {
   "cell_type": "markdown",
   "id": "47059784",
   "metadata": {},
   "source": [
    "### Step 7. Compare the simulated standard error with the formula for the standard error"
   ]
  },
  {
   "cell_type": "markdown",
   "id": "cccabc6d",
   "metadata": {},
   "source": [
    "The theoretical standard error of the sampling distribution equals the standard deviation of the population ($\\sigma$) divided by the square root of the sample size ($n$):\n",
    "\n",
    "$$ \\mathrm{SEM} = \\frac{\\sigma}{\\sqrt{n}}$$\n",
    "\n",
    "Using Python code, substitute the values of $\\sigma$ and $n$ into this equation to calculate SEM. Hopefully your simulated standard error (which you calculated in Step 6) should be a close match to that given by the formula."
   ]
  },
  {
   "cell_type": "code",
   "execution_count": null,
   "id": "905a60fd",
   "metadata": {},
   "outputs": [],
   "source": [
    "import math\n",
    "\n",
    "print( sigma / math.sqrt(n) )"
   ]
  }
 ],
 "metadata": {
  "kernelspec": {
   "display_name": "Python 3 (ipykernel)",
   "language": "python",
   "name": "python3"
  },
  "language_info": {
   "codemirror_mode": {
    "name": "ipython",
    "version": 3
   },
   "file_extension": ".py",
   "mimetype": "text/x-python",
   "name": "python",
   "nbconvert_exporter": "python",
   "pygments_lexer": "ipython3",
   "version": "3.9.13"
  },
  "varInspector": {
   "cols": {
    "lenName": 16,
    "lenType": 16,
    "lenVar": 40
   },
   "kernels_config": {
    "python": {
     "delete_cmd_postfix": "",
     "delete_cmd_prefix": "del ",
     "library": "var_list.py",
     "varRefreshCmd": "print(var_dic_list())"
    },
    "r": {
     "delete_cmd_postfix": ") ",
     "delete_cmd_prefix": "rm(",
     "library": "var_list.r",
     "varRefreshCmd": "cat(var_dic_list()) "
    }
   },
   "types_to_exclude": [
    "module",
    "function",
    "builtin_function_or_method",
    "instance",
    "_Feature"
   ],
   "window_display": false
  }
 },
 "nbformat": 4,
 "nbformat_minor": 5
}
