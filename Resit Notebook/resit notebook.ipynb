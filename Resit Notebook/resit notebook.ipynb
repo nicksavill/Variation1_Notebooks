{
 "cells": [
  {
   "attachments": {},
   "cell_type": "markdown",
   "id": "3b9048ae",
   "metadata": {},
   "source": [
    "# *Pseudomonas fluorescens* analysis\n",
    "\n",
    "# Comparison of diversity scores between control (control) and experimental (experimental) plates"
   ]
  },
  {
   "attachments": {},
   "cell_type": "markdown",
   "id": "918ac59f",
   "metadata": {},
   "source": [
    "<div class=\"alert alert-success\">\n",
    "\n",
    "# Part 1: Exploring your data\n",
    "</div>"
   ]
  },
  {
   "attachments": {},
   "cell_type": "markdown",
   "id": "fef009d3",
   "metadata": {},
   "source": [
    "## Task 1.1: Move your team's excel spreadsheet from Microsoft Teams to Noteable"
   ]
  },
  {
   "attachments": {},
   "cell_type": "markdown",
   "id": "66a8d711",
   "metadata": {},
   "source": [
    "Your data are in an excel spreadsheet saved on Teams. You need to download it from Teams onto your laptop then upload it to Noteable.\n",
    "\n",
    "Follow these instructions to do this:\n",
    "1. Go to Learn and click **Open Microsoft Teams classes** in the left-hand panel.\n",
    "2. Log in to the **Biology 1A Variation (2022-2023) Team**.\n",
    "3. Click on **Files** and locate your team's spreadsheet. For example, if you are in Lab 3, sitting at Bench 5 or Bench 6 then your spreadsheet is called `Lab 3 Benches 5 + 6.xlsx`.\n",
    "4. Click on the **three dots** to the right of your spreadsheet then click on **Download** in the popup.\n",
    "5. Return to the **Variation1/Pseudomonas Analysis/** browser tab running **Noteable**.\n",
    "6. Click on **Upload** on the right, find your spreadsheet on your laptop, then click on the **blue Upload** button.\n",
    "7. Make sure your spreadsheet is saved in the **Variation1/Pseudomonas Analysis** folder. That is, the same folder this Notebook is in."
   ]
  },
  {
   "attachments": {},
   "cell_type": "markdown",
   "id": "501f97f8",
   "metadata": {},
   "source": [
    "## Task 1.2: Read in and print the diveristy scores to check the data are okay"
   ]
  },
  {
   "attachments": {},
   "cell_type": "markdown",
   "id": "51862156",
   "metadata": {},
   "source": [
    "Using pandas, read in your excel spreadsheet and call it something sensible.\n",
    "\n",
    "1. To read in excel spreadsheets we use the command `pd.read_excel('filename.xlsx')`. Do this now, calling the DataFrame something sensible.\n",
    "\n",
    "2. Print the data to make sure it is okay. You should see two columns headed `control` and `experimental`.\n",
    "\n",
    "<div class=\"alert alert-danger\">\n",
    "\n",
    "If you get **FileNotFoundError** make sure your spreadsheet is saved in the folder **Variation1/Pseudomonas Analysis**, i.e., the same one this notebook is saved in.\n",
    "</div>"
   ]
  },
  {
   "cell_type": "code",
   "execution_count": 17,
   "id": "489b37a7",
   "metadata": {},
   "outputs": [],
   "source": [
    "# read and print your pseudomonas cultures' diverity scores"
   ]
  },
  {
   "attachments": {},
   "cell_type": "markdown",
   "id": "477f4bc2",
   "metadata": {},
   "source": [
    "## Task 1.3: Plot your data in histograms to see how they are distributed"
   ]
  },
  {
   "attachments": {},
   "cell_type": "markdown",
   "id": "571831b6",
   "metadata": {},
   "source": [
    "Plot the distributions of the control and experimental diversity scores as histograms in a single annotated graph. \n",
    "\n",
    "See [2.7 - Visualising data](../Self-study%20Notebooks/2.7%20-%20Visualising%20data.ipynb) for help."
   ]
  },
  {
   "cell_type": "code",
   "execution_count": 18,
   "id": "3f010acd",
   "metadata": {},
   "outputs": [],
   "source": [
    "# annotated histograms of pseudomonas diversity scores "
   ]
  },
  {
   "attachments": {},
   "cell_type": "markdown",
   "id": "5b60bbc3",
   "metadata": {},
   "source": [
    "## Task 1.4: The distributions might be clearer in a boxplot"
   ]
  },
  {
   "attachments": {},
   "cell_type": "markdown",
   "id": "12e6ca28",
   "metadata": {},
   "source": [
    "As there are so few data points in your data the histograms look quite sparse. A boxplot is probably a better way to visualise your data. \n",
    "\n",
    "Plot the distributions of the control and experimental diversity scores in an annotated boxplot. \n",
    "\n",
    "See [4.5 - Visual comparison](../Self-study%20Notebooks/4.5%20-%20Visual%20comparison.ipynb) for help."
   ]
  },
  {
   "cell_type": "code",
   "execution_count": 19,
   "id": "9109bf07",
   "metadata": {},
   "outputs": [],
   "source": [
    "# annotated boxplot of pseudomonas diversity scores "
   ]
  },
  {
   "attachments": {},
   "cell_type": "markdown",
   "id": "8a1719d6",
   "metadata": {},
   "source": [
    "## Task 1.5: Eye-ball estimates of the means and standard deviations"
   ]
  },
  {
   "attachments": {},
   "cell_type": "markdown",
   "id": "1fa3ca70",
   "metadata": {},
   "source": [
    "It is generally a good idea to estimate means and standard deviations by eye before calculating them on a computer. This is so you can check your eye-ball estimates with the actual values output by Python. If they don't match then you know something is wrong: either your estimates or your code.\n",
    "\n",
    "Using your histograms or boxplots, estimate the means and standard deviations of diversity scores from both cultures. Remember that a rough estimate of the standard deviation is given by this formula\n",
    "\n",
    "$$s \\approx \\frac{\\mathrm{max\\ value} - \\mathrm{min\\ value}}{4}$$\n"
   ]
  },
  {
   "attachments": {},
   "cell_type": "markdown",
   "id": "d2c458a4",
   "metadata": {},
   "source": [
    "> Write your estimates here"
   ]
  },
  {
   "attachments": {},
   "cell_type": "markdown",
   "id": "60b148f0",
   "metadata": {},
   "source": [
    "## Task 1.6: Calculate the sample sizes, means and standard deviations"
   ]
  },
  {
   "attachments": {},
   "cell_type": "markdown",
   "id": "5b798c8e",
   "metadata": {},
   "source": [
    "Now, using Python code, calculate the sample sizes, means and standard deviations of the two samples and print to the appropriate number of decimal places.\n",
    "\n",
    "See Notebook [4.2 - Comparing two population means](../Self-study%20Notebooks/4.2%20-%20Comparing%20two%20population%20means.ipynb#Sample-means-and-standard-deviations) for example code.\n",
    "\n",
    "How do they compare to your eye-ball estimates?"
   ]
  },
  {
   "cell_type": "code",
   "execution_count": null,
   "id": "712f4d74",
   "metadata": {},
   "outputs": [],
   "source": [
    "# sample sizes, sample means and sample standard deviations of both samples"
   ]
  },
  {
   "attachments": {},
   "cell_type": "markdown",
   "id": "1d7c92ac",
   "metadata": {},
   "source": [
    "## Task 1.7: Calculate the the difference in sample means"
   ]
  },
  {
   "attachments": {},
   "cell_type": "markdown",
   "id": "3c06a21d",
   "metadata": {},
   "source": [
    "Using the sample means you just calculated, calculate, using Python code, the difference in sample means. \n",
    "\n",
    "See Notebook [4.2 - Comparing two population means](../Self-study%20Notebooks/4.2%20-%20Comparing%20two%20population%20means.ipynb#The-test-statistic) for the code to do this."
   ]
  },
  {
   "cell_type": "code",
   "execution_count": 3,
   "id": "8eee5013",
   "metadata": {},
   "outputs": [],
   "source": [
    "# difference in sample means"
   ]
  },
  {
   "attachments": {},
   "cell_type": "markdown",
   "id": "1c4dc3a1",
   "metadata": {},
   "source": [
    "<div class=\"alert alert-success\">\n",
    "\n",
    "# Part 2: Statistically test the null hypothesis that diversity scores are the same in the control and experimental cultures\n",
    "</div>"
   ]
  },
  {
   "attachments": {},
   "cell_type": "markdown",
   "id": "1e7b4105",
   "metadata": {},
   "source": [
    "## Task 2.1: Perform a Mann-Whitney *U*-test"
   ]
  },
  {
   "attachments": {},
   "cell_type": "markdown",
   "id": "5dcb71c1",
   "metadata": {},
   "source": [
    "You used a *t*-test to test if mean ladybird sizes were the same in low and high predation cemeteries. *t*-tests can only be used on data that are normally distributed. As ladybird sizes are normally distributed using a *t*-test is acceptable.\n",
    "\n",
    "Diversity scores, on the other hand, are usually not normally distributed. Which means you shouldn't use a *t*-test to compare if diversity scores are the same in control and experimental cultures. Instead you should use something called the Mann-Whitney *U*-test.\n",
    "\n",
    "Although the mathematical details are different, the Mann-Whitney *U*-test still calculates a *p*-value for your data. And, as for the *t*-test, we reject the null hypothesis if *p* < 0.05 and fail to reject it if *p* > 0.05.\n",
    "\n",
    "To use a Mann-Whitney *U*-test in Python you first have to import it with the command\n",
    "\n",
    "```python\n",
    "from scipy.stats import mannwhitneyu\n",
    "```\n",
    "\n",
    "And then apply it to your data with the command\n",
    "\n",
    "```python\n",
    "U, p = mannwhitneyu(DataFrame['control'], DataFrame['experimental'])\n",
    "```\n",
    "\n",
    "<div class=\"alert alert-info\">\n",
    "\n",
    "You must replace the word `DataFrame` in the above command with whatever you called your dataset when you read it in in Task 1.2 above.\n",
    "    \n",
    "</div>\n",
    "\n",
    "Note that the statistic is now called `U` rather than `t` (although, of course, it doesn't matter how we name our Python variables), and we have removed the `nan_policy='omit'` as that is not applicable to the Mann-Whitney *U*-test\n",
    "\n",
    "Now perform a Mann-Whitney *U*-test on your data using Python code."
   ]
  },
  {
   "cell_type": "code",
   "execution_count": 6,
   "id": "efbc82b8",
   "metadata": {},
   "outputs": [],
   "source": [
    "# perform a Mann-Whitney U-test on your data"
   ]
  },
  {
   "attachments": {},
   "cell_type": "markdown",
   "id": "ba689e87",
   "metadata": {},
   "source": [
    "## Task 2.2: Reject or fail to reject your null hypothesis"
   ]
  },
  {
   "attachments": {},
   "cell_type": "markdown",
   "id": "334eff8f",
   "metadata": {},
   "source": [
    "Based on your *p*-value and a confidence level of $\\alpha=$ 0.05. Do you reject or fail to reject your null hypothesis that diversity scores are the same in the control and experimental cultures? Write your answer below.\n",
    "\n",
    "Also see [4.4 - Two sample *t*-test in practice](../Self-study%20Notebooks/4.4%20-%20Two%20sample%20t-test%20in%20practice.ipynb#To-reject-or-not-reject-the-null-hypothesis) for more discussion about rejecting or not rejecting a null hypothesis."
   ]
  },
  {
   "attachments": {},
   "cell_type": "markdown",
   "id": "6aa54cf7",
   "metadata": {},
   "source": [
    "> Do you reject or not reject the null hypothesis? Explain why."
   ]
  },
  {
   "attachments": {},
   "cell_type": "markdown",
   "id": "158aaa33",
   "metadata": {},
   "source": [
    "## Task 2.3: Report the result of your test"
   ]
  },
  {
   "attachments": {},
   "cell_type": "markdown",
   "id": "8b0a4906",
   "metadata": {},
   "source": [
    "Report the outcome of your test in words, as you might write in a report.\n",
    "\n",
    "See [4.4 - Two sample *t*-test in practice](../Self-study%20Notebooks/4.4%20-%20Two%20sample%20t-test%20in%20practice.ipynb#Reporting-the-result-of-the-test) for an example. "
   ]
  },
  {
   "attachments": {},
   "cell_type": "markdown",
   "id": "e512d1bd",
   "metadata": {},
   "source": [
    "> Report the outcome of your test."
   ]
  }
 ],
 "metadata": {
  "kernelspec": {
   "display_name": "Python 3 (ipykernel)",
   "language": "python",
   "name": "python3"
  },
  "language_info": {
   "codemirror_mode": {
    "name": "ipython",
    "version": 3
   },
   "file_extension": ".py",
   "mimetype": "text/x-python",
   "name": "python",
   "nbconvert_exporter": "python",
   "pygments_lexer": "ipython3",
   "version": "3.9.12"
  },
  "varInspector": {
   "cols": {
    "lenName": 16,
    "lenType": 16,
    "lenVar": 40
   },
   "kernels_config": {
    "python": {
     "delete_cmd_postfix": "",
     "delete_cmd_prefix": "del ",
     "library": "var_list.py",
     "varRefreshCmd": "print(var_dic_list())"
    },
    "r": {
     "delete_cmd_postfix": ") ",
     "delete_cmd_prefix": "rm(",
     "library": "var_list.r",
     "varRefreshCmd": "cat(var_dic_list()) "
    }
   },
   "types_to_exclude": [
    "module",
    "function",
    "builtin_function_or_method",
    "instance",
    "_Feature"
   ],
   "window_display": false
  }
 },
 "nbformat": 4,
 "nbformat_minor": 5
}
