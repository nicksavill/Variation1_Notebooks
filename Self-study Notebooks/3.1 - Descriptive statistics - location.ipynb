{
 "cells": [
  {
   "cell_type": "markdown",
   "metadata": {},
   "source": [
    "# Descriptive statistics: location"
   ]
  },
  {
   "cell_type": "markdown",
   "metadata": {},
   "source": [
    "<div class=\"alert alert-success\">\n",
    "\n",
    "**Before completing this week's Self-study Notebooks you must have completed the [Coding 3 - Working with data Notebook.](../Coding%20Practicals%20Notebooks/Coding%203%20-%20Working%20with%20data.ipynb)**\n",
    "    \n",
    "</div>\n",
    "\n",
    "<div class=\"alert alert-warning\">\n",
    "\n",
    "**In this notebook you will learn how to describe the location, or centre, of a set of numerical data in pandas using the arithmetic mean.**\n",
    "    \n",
    "</div>"
   ]
  },
  {
   "cell_type": "markdown",
   "metadata": {},
   "source": [
    "In the Coding 3 workshop we looked at visualising a set of data. Visualising data collected from an experiment or from observations is very important and almost always the first step in statistically analysing your data. But visualising data is not enough. We need to say something concrete about it. And that means describing it with numbers. \n",
    "\n",
    "These numbers are called **descriptive or summary statistics of a sample**.\n",
    "\n",
    "This sounds complicated, but it's not. \n",
    "\n",
    "When describing numerical data with numbers we usually need two pieces of information: the **location** of the values and the **spread** of values.\n",
    "\n",
    "The location of the values tells us where the data are centred. The importance of calculating the centre of a set of data seems obvious. How else do we address questions like \"Which species is larger?\" or \"Which drug yielded the greatest response?\".\n",
    "\n",
    "The **average** or **mean** (more specifically, the **arithmetic mean**), is the most important descriptive statistic of the location of a set of numerical data. You know how to calculate a mean: add the values together and divide by the number of values. \n",
    "\n",
    "Other descriptive statistics of location include the **median** and the **mode**. We won't consider these further in this course.\n",
    "\n",
    "We mentioned in the Coding 3 Practical that pandas provides lots of functions for reading in, analysing, manipulating and describing data. Pandas also provides functions for calculating means. Let's look at an example of Darwin's finches to see how this is done."
   ]
  },
  {
   "cell_type": "markdown",
   "metadata": {},
   "source": [
    "## Darwin's finches"
   ]
  },
  {
   "cell_type": "markdown",
   "metadata": {},
   "source": [
    "Darwin's finches (also known as the Galápagos finches) are a group of about 18 species well known for their remarkable diversity in beak form and function.\n",
    "<br>\n",
    "<br>\n",
    "<div>\n",
    "<img src=\"attachment:darwins_finches.jpg\" width='70%' title=\"Reproduced from Grant, P.R. (1991). Natural Selection and Darwin’s Finches. Scientific American Vol. 265, pp. 82-87\"/>\n",
    "</div>\n",
    "\n",
    "The file `Datasets/finches beak width.csv`\n",
    "contains beak widths of a sample of 100 Cactus finches and 100 Vegetarian finches (shown in the above image). \n",
    "\n",
    "<div class=\"alert alert-info\">\n",
    "\n",
    "Run the code cell below to read in and print the DataFrame. \n",
    "</div>"
   ]
  },
  {
   "cell_type": "code",
   "execution_count": null,
   "metadata": {},
   "outputs": [],
   "source": [
    "import pandas as pd\n",
    "\n",
    "# Read in the Darwin finches beak width data.\n",
    "beak_widths = pd.read_csv('Datasets/finches beak width.csv')\n",
    "\n",
    "# Print it to look at the data.\n",
    "print(beak_widths)"
   ]
  },
  {
   "cell_type": "markdown",
   "metadata": {},
   "source": [
    "There are three columns. The first is an index and can be ignored. The second contains all the Cactus finches' beak widths and the third column contains all the Vegetarian finches' beak widths. \n",
    "\n",
    "As always, we plot the data to see what they look like.\n",
    "\n",
    "<div class=\"alert alert-info\">\n",
    "\n",
    "Run the code cell below to plot histograms of beak widths of both species. \n",
    "</div>"
   ]
  },
  {
   "cell_type": "code",
   "execution_count": null,
   "metadata": {},
   "outputs": [],
   "source": [
    "import seaborn as sns\n",
    "\n",
    "# Plot histograms of the data. Seaborn knows to plot a separate histogram for each species.\n",
    "g = sns.displot(beak_widths)\n",
    "\n",
    "# Add some annotation.\n",
    "g.ax.set_xlabel('Beak width (mm)')\n",
    "g.ax.set_ylabel('Number of finches')\n",
    "g.ax.set_title('Frequency distributions of beak widths\\nof 100 Cactus and 100 Vegetarian finches')\n",
    "g.legend.set_title('Finch species');"
   ]
  },
  {
   "cell_type": "markdown",
   "metadata": {},
   "source": [
    "If you get a `UserWarning`, just ignore it: it's a bug in seaborn's code.\n",
    "\n",
    "There are two distributions plotted in this figure, blue for Cactus finches and orange for Vegetarian finches. Plotting distributions like this allows us to easily compare them by eye.\n",
    "\n",
    "It's clear that Vegetarian finches have wider beaks than Cactus finches even though there is some variation within each species. \n",
    "\n",
    "What is the difference in mean beak widths between the two species? Eye-balling the distributions shows that Vegetarian finches have a mean beak width of about 12mm and the Cactus finches of about 8mm; so that's a difference of about 4mm.\n",
    "\n",
    "Eye-balling data is a useful technique to get a quick, but approximate, measure of where it is located. After that we should calculate the exact mean. We can compare the exact mean with our eye-balled value to make sure we haven't made a mistake.\n",
    "\n",
    "---\n",
    "\n",
    "Notice in the above figure that there is a legend which tells us which histogram belongs to which species: blue for Cactus finches and orange for Vegetarian finches. Legends are essential when two or more sets of data are plotted in the same graph. In addition, we've added a title to the legend with the command\n",
    "\n",
    "```python\n",
    "g.legend.set_title('Finch species');\n",
    "```"
   ]
  },
  {
   "cell_type": "markdown",
   "metadata": {},
   "source": [
    "## Calculating means with pandas"
   ]
  },
  {
   "cell_type": "markdown",
   "metadata": {},
   "source": [
    "Now let's calculate the exact mean beak widths using pandas. It's very simple. The mean of a sample of data is usually written as $\\bar{x}$ or $\\bar{y}$ (pronounced \"x-bar\" and \"y-bar\").\n",
    "\n",
    "<div class=\"alert alert-info\">\n",
    "\n",
    "1. Look at the code below to try and understand what it is doing. \n",
    "2. Run the code.\n",
    "</div>"
   ]
  },
  {
   "cell_type": "code",
   "execution_count": null,
   "metadata": {},
   "outputs": [],
   "source": [
    "# Calculate the mean beak widths of Cactus and Vegetarian finches and store the means in xbar.\n",
    "xbar = beak_widths.mean()\n",
    "\n",
    "print( xbar )"
   ]
  },
  {
   "cell_type": "markdown",
   "metadata": {},
   "source": [
    "The code\n",
    "```python\n",
    "xbar = beak_widths.mean()\n",
    "```\n",
    "calculates the mean for each column (i.e., for each species) in the `beak_widths` DataFrame automatically. The results are stored in a variable called `xbar` which we've printed out. (You can ignore the `dtype: float64` bit.) \n",
    "\n",
    "Storing the means in the variable `xbar` is handy because we can easily calculate the difference in mean beak widths between the two species.\n",
    "\n",
    "<div class=\"alert alert-info\">\n",
    "\n",
    "Look at the code below to try and understand what it is doing. Then run it.\n",
    "</div>"
   ]
  },
  {
   "cell_type": "code",
   "execution_count": null,
   "metadata": {},
   "outputs": [],
   "source": [
    "# The difference in mean beak widths of Vegetarian and Cactus finches\n",
    "\n",
    "d = xbar['Vegetarian'] - xbar['Cactus']\n",
    "\n",
    "print( d )"
   ]
  },
  {
   "cell_type": "markdown",
   "metadata": {},
   "source": [
    "The difference is 4.130000000000003 mm which is very close to what we expected by eye-balling the two histograms."
   ]
  },
  {
   "cell_type": "markdown",
   "metadata": {},
   "source": [
    "## Format your output with an f-string"
   ]
  },
  {
   "cell_type": "markdown",
   "metadata": {},
   "source": [
    "All those digits after the decimal place are meaningless as beak width was only measured to one-tenth of a millimetre. We should round the output with an f-string to make it more readable. \n",
    "\n",
    "The general rule-of-thumb is to report a mean to one more decimal place than in the data. As the data were measured to 1dp, we should report the mean to 2dp. \n",
    "\n",
    "<div class=\"alert alert-info\">\n",
    "    \n",
    "Here's the f-string for doing that.\n",
    "\n",
    "Look at the code below to try and understand what it is doing. Then run it.\n",
    "</div>"
   ]
  },
  {
   "cell_type": "code",
   "execution_count": null,
   "metadata": {},
   "outputs": [],
   "source": [
    "print( f'Difference in mean beak widths = {d:.2f} mm')"
   ]
  },
  {
   "cell_type": "markdown",
   "metadata": {},
   "source": [
    "## Exercise Notebook"
   ]
  },
  {
   "cell_type": "markdown",
   "metadata": {},
   "source": [
    "[Descriptive statistics: location](Exercises/3.1%20-%20Descriptive%20statistics%20-%20location.ipynb)"
   ]
  }
 ],
 "metadata": {
  "interpreter": {
   "hash": "5b34568b434bb6e5bf895c3fbf2a1e101e1e281d0c9e435769d397db7902ae33"
  },
  "kernelspec": {
   "display_name": "Python 3 (ipykernel)",
   "language": "python",
   "name": "python3"
  },
  "language_info": {
   "codemirror_mode": {
    "name": "ipython",
    "version": 3
   },
   "file_extension": ".py",
   "mimetype": "text/x-python",
   "name": "python",
   "nbconvert_exporter": "python",
   "pygments_lexer": "ipython3",
   "version": "3.9.13"
  },
  "varInspector": {
   "cols": {
    "lenName": 16,
    "lenType": 16,
    "lenVar": 40
   },
   "kernels_config": {
    "python": {
     "delete_cmd_postfix": "",
     "delete_cmd_prefix": "del ",
     "library": "var_list.py",
     "varRefreshCmd": "print(var_dic_list())"
    },
    "r": {
     "delete_cmd_postfix": ") ",
     "delete_cmd_prefix": "rm(",
     "library": "var_list.r",
     "varRefreshCmd": "cat(var_dic_list()) "
    }
   },
   "types_to_exclude": [
    "module",
    "function",
    "builtin_function_or_method",
    "instance",
    "_Feature"
   ],
   "window_display": false
  }
 },
 "nbformat": 4,
 "nbformat_minor": 2
}
