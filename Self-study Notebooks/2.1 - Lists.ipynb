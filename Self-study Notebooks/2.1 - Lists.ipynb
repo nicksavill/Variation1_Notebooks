{
 "cells": [
  {
   "cell_type": "markdown",
   "metadata": {
    "button": false,
    "new_sheet": false
   },
   "source": [
    "# Lists"
   ]
  },
  {
   "cell_type": "markdown",
   "metadata": {},
   "source": [
    "<div class=\"alert alert-warning\">\n",
    "\n",
    "**In this notebook you will learn how multiple numbers can be stored in a single variable called a \"list\".**\n",
    "    \n",
    "</div>"
   ]
  },
  {
   "cell_type": "markdown",
   "metadata": {
    "button": false,
    "new_sheet": false
   },
   "source": [
    "The following table tabulates the diameters of types of white blood cells in human blood.\n",
    " \n",
    "<div>\n",
    "<img src=\"attachment:WhiteBloodCells.png\" title=\"Blausen.com staff (2014). Medical gallery of Blausen Medical 2014. WikiJournal of Medicine 1 (2). DOI:10.15347/wjm/2014.010. ISSN 2002-4436. - Own work\"/>\n",
    "</div>\n",
    " \n",
    "Cell type | Diameter ($\\mu$m)\n",
    ":---|:---:\n",
    "Neutrophil | 11\n",
    "Eosinophil | 11\n",
    "Basophil | 13.5\n",
    "Small lymphocyte | 7.5\n",
    "Large lymphocyte | 13.5\n",
    "Monocyte | 22.5\n",
    "\n",
    "Let's say we want to use Python code to calculate the average diameter of white blood cell types. One way to code it would be to have a variable for each diameter, and then use those variables in the formula for calculating an average\n",
    "\n",
    "<div class=\"alert alert-info\">\n",
    "\n",
    "1. Look at the code below and see if you can understand what it is trying to do.\n",
    "2. Run the code.\n",
    "</div>"
   ]
  },
  {
   "cell_type": "code",
   "execution_count": null,
   "metadata": {},
   "outputs": [],
   "source": [
    "# For each white blood cell type assign its diameter to a variable.\n",
    "d1 = 11\n",
    "d2 = 11\n",
    "d3 = 13.5\n",
    "d4 = 7.5\n",
    "d5 = 13.5\n",
    "d6 = 22.5\n",
    "\n",
    "# Find the average diameter and assign it to the variable called average_diameter.\n",
    "average_diameter = (d1 + d2 + d3 + d4 + d5 + d6) / 6\n",
    "\n",
    "# Print out the average diameter to 2dp.\n",
    "print(f'Average white blood cell diameter is {average_diameter:.2f} micrometers')"
   ]
  },
  {
   "cell_type": "markdown",
   "metadata": {
    "button": false,
    "new_sheet": false
   },
   "source": [
    "That's okay if we have a few values. But if we have hundreds or millions of values coding them like this is tedious, maybe impossible and not re-useable. \n",
    "\n",
    "Fortunately Python has a variable type called a **list** that can store multiple values simultaneously in a single variable. Lists allow us to write simpler, more efficient and re-useable code. "
   ]
  },
  {
   "cell_type": "markdown",
   "metadata": {},
   "source": [
    "## A list is a sequence of items"
   ]
  },
  {
   "cell_type": "markdown",
   "metadata": {
    "button": false,
    "new_sheet": false
   },
   "source": [
    "Using white blood cells as an example, the code in the following code cell assigns a sequence of numbers to a list variable called `diameters`. Python knows it is a list variable because of the pair of square brackets surrounding the sequence of comma-separated numbers.\n",
    "\n",
    "The individual values in a list are called **elements** or **items**.\n",
    "\n",
    "<div class=\"alert alert-info\">\n",
    "Run the following code to see how lists work.\n",
    "</div>"
   ]
  },
  {
   "cell_type": "code",
   "execution_count": null,
   "metadata": {
    "button": false,
    "new_sheet": false
   },
   "outputs": [],
   "source": [
    "# Assign a sequence of numbers to a list variable called diameters.\n",
    "# Python knows this is a list because of the square brackets.\n",
    "\n",
    "diameters = [11, 11, 13.5, 7.5, 13.5, 22.5]\n",
    "\n",
    "print( diameters )"
   ]
  },
  {
   "cell_type": "markdown",
   "metadata": {},
   "source": [
    "## Length of a list"
   ]
  },
  {
   "cell_type": "markdown",
   "metadata": {},
   "source": [
    "The number of items in a list is called its length.  The length of a list is given by the function `len()` as demonstrated in the following code.\n",
    "\n",
    "<div class=\"alert alert-info\">\n",
    "    \n",
    "Run the following code to see how `len()` works on a list.\n",
    "</div>"
   ]
  },
  {
   "cell_type": "code",
   "execution_count": null,
   "metadata": {},
   "outputs": [],
   "source": [
    "# len() counts the number of items in the list diameters. We store the length in the variable n.\n",
    "\n",
    "n = len(diameters)\n",
    "\n",
    "# Using an f-string, print out the length of the list\n",
    "\n",
    "print( f'The number of items in diameters is {n}' )"
   ]
  },
  {
   "cell_type": "markdown",
   "metadata": {},
   "source": [
    "Or, alternatively, without using the variable `n`:"
   ]
  },
  {
   "cell_type": "code",
   "execution_count": null,
   "metadata": {},
   "outputs": [],
   "source": [
    "print( f'The number of items in diameters is {len(diameters)}' )"
   ]
  },
  {
   "cell_type": "markdown",
   "metadata": {},
   "source": [
    "Using a variable like `n` to store the length of a list can be useful if you need to use the list's length for other purposes as we shall see later."
   ]
  },
  {
   "cell_type": "markdown",
   "metadata": {
    "button": false,
    "new_sheet": false
   },
   "source": [
    "## Accessing values in a list"
   ]
  },
  {
   "cell_type": "markdown",
   "metadata": {
    "button": false,
    "new_sheet": false
   },
   "source": [
    "Lists are ordered: each item occurs at a position known as its **index**. This is shown in the table below for the white blood cell types in the list `diameters`. \n",
    "\n",
    "The first item of value 11 has index 0, the second item, also of value 11, has index 1, and so on.\n",
    "\n",
    "diameters | 11 | 11 | 13.5 | 7.5 | 13.5 | 22.5  \n",
    ":---|:---:|:---:|:---:|:---:|:---:|:---:\n",
    "position |  1<sup>st</sup> | 2<sup>nd</sup> | 3<sup>rd</sup> | 4<sup>th</sup> | 5<sup>th</sup> | 6<sup>th</sup> |  \n",
    "index | 0 | 1 | 2 | 3 | 4 | 5 |\n",
    "\n",
    "It can sometimes be confusing to start counting indicies from zero. Just remember that an item's index in a list is its position minus one.\n",
    "\n",
    "Individual items in a list can be accessed by specifying the item's index in square brackets after the list's name. \n",
    "\n",
    "<div class=\"alert alert-info\">\n",
    "Run the following code to see how indexing works.\n",
    "</div>\n",
    "\n",
    "\n"
   ]
  },
  {
   "cell_type": "code",
   "execution_count": null,
   "metadata": {
    "button": false,
    "new_sheet": false
   },
   "outputs": [],
   "source": [
    "diameters = [11, 11, 13.5, 7.5, 13.5, 22.5]\n",
    "\n",
    "# Access the first item of diameters and assign it to a variable called d.\n",
    "d = diameters[0]\n",
    "print( d )\n",
    "\n",
    "# Directly print the third item of diameters.\n",
    "print( diameters[2] )"
   ]
  },
  {
   "cell_type": "markdown",
   "metadata": {},
   "source": [
    "## Exercise Notebook"
   ]
  },
  {
   "cell_type": "markdown",
   "metadata": {},
   "source": [
    "[Lists](Exercises/2.1%20-%20Lists.ipynb)"
   ]
  }
 ],
 "metadata": {
  "anaconda-cloud": {},
  "hide_input": false,
  "kernelspec": {
   "display_name": "Python 3 (ipykernel)",
   "language": "python",
   "name": "python3"
  },
  "language_info": {
   "codemirror_mode": {
    "name": "ipython",
    "version": 3
   },
   "file_extension": ".py",
   "mimetype": "text/x-python",
   "name": "python",
   "nbconvert_exporter": "python",
   "pygments_lexer": "ipython3",
   "version": "3.9.13"
  }
 },
 "nbformat": 4,
 "nbformat_minor": 4
}
