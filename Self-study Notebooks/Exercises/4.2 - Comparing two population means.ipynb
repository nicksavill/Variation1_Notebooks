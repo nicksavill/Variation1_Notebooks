{
 "cells": [
  {
   "cell_type": "markdown",
   "id": "e223f582",
   "metadata": {},
   "source": [
    "### Exercise 4.2.1\n",
    "\n",
    "\n",
    "The horned lizard *Phrynosoma macallii* is named for the fringe of horns surrounding the head. \n",
    "<br>\n",
    "<br>\n",
    "<div>\n",
    "<img src=\"attachment:lizard.jpg\" width='50%' title=\"\"/>\n",
    "</div>\n",
    "\n",
    "What are the horns for?"
   ]
  },
  {
   "cell_type": "markdown",
   "id": "3cbc2254",
   "metadata": {
    "solution2": "hidden",
    "solution2_first": true
   },
   "source": [
    "One idea proposed by researchers is that they offer some protection against being eaten by one of their main predators, the loggerhead shrike, *Lanius ludovicianus*. The shrike skewers the lizard on thorns or barbed wire to save for later eating.\n",
    "<br>\n",
    "<br>\n",
    "<div>\n",
    "<img src=\"attachment:shrike.jpg\" width='50%' title=\"Terry Ross CC BY-SA 2.0\"/>\n",
    "</div>\n",
    "\n",
    "1. Write down a biological hypothesis for the researcher's question. "
   ]
  },
  {
   "cell_type": "markdown",
   "id": "ccf148bd",
   "metadata": {
    "solution2": "hidden"
   },
   "source": [
    "Biological hypothesis: The horns of the horned lizard offer some protection against being eaten by the loggerhead shrike."
   ]
  },
  {
   "cell_type": "markdown",
   "id": "938901e5",
   "metadata": {},
   "source": [
    "> *Write your answer here.*\n",
    "\n"
   ]
  },
  {
   "cell_type": "markdown",
   "id": "a93daf18",
   "metadata": {
    "solution2": "hidden",
    "solution2_first": true
   },
   "source": [
    "### Exercise 4.2.2\n",
    "\n",
    "The researchers measured the horn lengths of horned lizards that had not been predated (and hence were alive and free at some point in time) and the horn lengths of lizards that had been predated (and hence were skewered and dead at the same point in time). If their hypothesis were true then we might expect to see a difference in mean horn lengths between living and killed lizards. But if their hypothesis is wrong then we might expect to see no such difference.\n",
    "\n",
    "1. Write down a null hypothesis and an alternative hypothesis for the researcher's question. "
   ]
  },
  {
   "cell_type": "markdown",
   "id": "78465c83",
   "metadata": {
    "solution2": "hidden"
   },
   "source": [
    "Null hypothesis: The mean horn length of living lizards is the same as the mean horn length of killed lizards.\n",
    "\n",
    "Alternative hypothesis: The mean horn length of living lizards is different from the mean horn length of killed lizards.\n"
   ]
  },
  {
   "cell_type": "markdown",
   "id": "d1fa42f1",
   "metadata": {},
   "source": [
    "> *Write your answer here.*\n"
   ]
  },
  {
   "cell_type": "markdown",
   "id": "a41d875e",
   "metadata": {
    "solution2": "hidden",
    "solution2_first": true
   },
   "source": [
    "### Exercise 4.2.3\n",
    "\n",
    "The data collected by the researchers are in the file `Datasets/horned lizards.csv`.\n",
    "\n",
    "1. Read the data into a DataFrame called `lizards`. Don't forget to import pandas and seaborn.\n",
    "2. Plot annotated histograms and box plots of the horn lengths of living and killed lizards."
   ]
  },
  {
   "cell_type": "code",
   "execution_count": null,
   "id": "6acfe749",
   "metadata": {
    "solution2": "hidden"
   },
   "outputs": [],
   "source": [
    "%matplotlib inline\n",
    "import pandas as pd\n",
    "import seaborn as sns\n",
    "\n",
    "# Read in the dataset of horn lengths of living and killed lizards\n",
    "lizards = pd.read_csv('Datasets/horned lizards.csv')\n",
    "\n",
    "# Plot histograms of horn lengths of living and killed lizards\n",
    "g = sns.displot(lizards)\n",
    "\n",
    "# Add some annotation\n",
    "g.ax.set_xlabel('Horn length (mm)')\n",
    "g.ax.set_ylabel('Number of lizards')\n",
    "g.ax.set_title('Frequency distributions of horn lengths\\nof 30 living and 30 killed horned lizards')\n",
    "g.legend.set_title('Lizard');\n",
    "\n",
    "g = sns.catplot(data=lizards, kind='box')\n",
    "g.ax.set_xlabel('Lizard')\n",
    "g.ax.set_ylabel('Horn length (mm)')\n",
    "g.ax.set_title('Distributions of horn lengths\\nof 30 living and 30 killed horned lizards');\n"
   ]
  },
  {
   "cell_type": "code",
   "execution_count": null,
   "id": "72d0ad25",
   "metadata": {},
   "outputs": [],
   "source": []
  },
  {
   "cell_type": "markdown",
   "id": "6f16f5e1",
   "metadata": {
    "solution2": "hidden",
    "solution2_first": true
   },
   "source": [
    "### Exercise 4.2.4\n",
    "\n",
    "1. Calculate and print the sample sizes, means and standard deviations to the appropriate number of decimal places.\n",
    "\n",
    "*Hint: Copy and paste the code from [Self-study notebook 4.2](../4.2%20-%20Comparing%20two%20population%20means.ipynb#Sample-means-and-standard-deviations). But be sure to change the name of the DataFrame to `lizards`.*\n",
    "\n",
    "<div class=\"alert alert-info\">\n",
    "Your answers should be \n",
    "\n",
    "    Sample sizes\n",
    "    living    30\n",
    "    killed    30\n",
    "\n",
    "    Sample means (mm)\n",
    "    living    24.70\n",
    "    killed    22.99\n",
    "\n",
    "    Sample standard deviations (mm)\n",
    "    living    2.45\n",
    "    killed    2.71\n",
    "</div>"
   ]
  },
  {
   "cell_type": "code",
   "execution_count": null,
   "id": "e99151ee",
   "metadata": {
    "solution2": "hidden"
   },
   "outputs": [],
   "source": [
    "n = lizards.count()\n",
    "xbar = lizards.mean()\n",
    "s = lizards.std()\n",
    "\n",
    "print('Sample sizes')\n",
    "print(n)\n",
    "print() # Blank line\n",
    "\n",
    "print('Sample means (mm)')\n",
    "print(round(xbar, 2))\n",
    "print() # Blank line\n",
    "\n",
    "print('Sample standard deviations (mm)')\n",
    "print(round(s, 2))"
   ]
  },
  {
   "cell_type": "code",
   "execution_count": null,
   "id": "89bd2af8",
   "metadata": {},
   "outputs": [],
   "source": []
  },
  {
   "cell_type": "markdown",
   "id": "a71c660a",
   "metadata": {
    "solution2": "hidden",
    "solution2_first": true
   },
   "source": [
    "### Exercise 4.2.5\n",
    "\n",
    "In order to test the null hypothesis, use the *d*-statistic, the absolute difference in the sample means, as the test statistic. \n",
    "\n",
    "Calculate and print the *d*-statistic.\n",
    "\n",
    "<div class=\"alert alert-info\">\n",
    "Your answers should be \n",
    "\n",
    "    absolute difference in horn lengths = 1.71 mm\n",
    "</div>"
   ]
  },
  {
   "cell_type": "code",
   "execution_count": null,
   "id": "d216d21f",
   "metadata": {
    "solution2": "hidden"
   },
   "outputs": [],
   "source": [
    "d = abs(xbar['living'] - xbar['killed'])\n",
    "\n",
    "print(f'absolute difference in horn lengths = {d:.2f} mm')"
   ]
  },
  {
   "cell_type": "code",
   "execution_count": null,
   "id": "4e90a258",
   "metadata": {},
   "outputs": [],
   "source": []
  },
  {
   "cell_type": "markdown",
   "id": "833527eb",
   "metadata": {
    "solution2": "hidden",
    "solution2_first": true
   },
   "source": [
    "### Exercise 4.2.6\n",
    "\n",
    "1. Assuming the null hypothesis were true, simulate the sampling distribution of the *d*-statistic.\n",
    "\n",
    "    - **Assume the following:** That the populations of horn lengths of living and killed lizards are identical and normal with mean $\\mu$ = 23 mm and standard deviation $\\sigma$ = 2.5 mm.\n",
    "<br>\n",
    "<br>\n",
    "2. Create a histogram of the sampling distribution of the *d*-statistic.\n",
    "\n",
    "*Hint:*\n",
    "1. Use 100,000 samples to simulate the sampling distribution.\n",
    "2. You may find it easier to copy and paste the code from [Self-study notebook 4.2](../4.2%20-%20Comparing%20two%20population%20means.ipynb#Simulate-thousands-of-pairs-of-samples-from-the-1976-and-1978-populations-and-plot-the-sampling-distribution-of-the-d-statistic). But be sure to change the name of the DataFrame to `lizards`, change `1976` to `living` and `1978` to `killed`, change the value of `mu` to 23 and the value of `sigma` to 2.5."
   ]
  },
  {
   "cell_type": "code",
   "execution_count": null,
   "id": "944777ee",
   "metadata": {
    "solution2": "hidden"
   },
   "outputs": [],
   "source": [
    "import seaborn as sns\n",
    "from numpy.random import normal\n",
    "\n",
    "# Store the observed difference in sample mean horn lengths in d_obs to avoid hard-coding data\n",
    "xbar = lizards.mean()\n",
    "d_obs = abs(xbar['living'] - xbar['killed'])\n",
    "\n",
    "# Sample sizes from the study  \n",
    "n = lizards.count()\n",
    "n_living = n['living']\n",
    "n_killed = n['killed']\n",
    "\n",
    "# Set the populations's parameters. As we are assuming that the null model were true, both populations have identical parameters.\n",
    "mu = 23\n",
    "sigma = 2.5\n",
    "\n",
    "# Set the number of samples to 100,000.\n",
    "number_of_samples = 100000\n",
    "\n",
    "# 100,000 random samples of 30 horn lengths each from the living population\n",
    "samples_living = normal(mu, sigma, (n_living, number_of_samples))\n",
    "# 100,000 random samples of 30 horn lengths each from the killed population\n",
    "samples_killed = normal(mu, sigma, (n_killed, number_of_samples))\n",
    "\n",
    "# Calculate all sample means\n",
    "xbars_living = samples_living.mean(axis=0)\n",
    "xbars_killed = samples_killed.mean(axis=0)\n",
    "\n",
    "# Calculate the d-statistic for each pair of samples\n",
    "ds = abs(xbars_living - xbars_killed)\n",
    "\n",
    "# Sampling distribution of the d-statistic\n",
    "g = sns.displot(ds, bins=50, stat='proportion')\n",
    "\n",
    "# Add some annotation\n",
    "g.ax.set_xlabel('$d$-statistic, difference in sample means (mm)')\n",
    "g.ax.set_title('Sampling distribution of the $d$-statistic\\nassuming null hypothesis were true')\n",
    "g.ax.annotate(f'{d_obs:.2f} mm', (d_obs, 0), (0.5, 0.5), textcoords='axes fraction', color='magenta', fontsize=12, arrowprops={'arrowstyle':'-|>', 'color':'magenta'}, ha='center'); # Add an arrow"
   ]
  },
  {
   "cell_type": "code",
   "execution_count": null,
   "id": "83853982",
   "metadata": {},
   "outputs": [],
   "source": []
  },
  {
   "cell_type": "markdown",
   "id": "12ddc497",
   "metadata": {
    "solution2": "hidden",
    "solution2_first": true
   },
   "source": [
    "### Exercise 4.2.7\n",
    "\n",
    "By eye-balling the sampling distribution you just plotted, do you think it unusual to observe a difference in sample mean horn lengths of at least 1.71 mm if the mean horn lengths of the populations of living and killed lizards are the same?"
   ]
  },
  {
   "cell_type": "markdown",
   "id": "fd92a373",
   "metadata": {
    "solution2": "hidden"
   },
   "source": [
    "A difference of at least 1.71 mm in horn lengths appears very unlikely if the null hypothesis were true as 1.71 mm lies far into the lower and upper tails. "
   ]
  },
  {
   "cell_type": "markdown",
   "id": "a4a9edb2",
   "metadata": {},
   "source": [
    "> *Write your answer here.*\n"
   ]
  },
  {
   "cell_type": "markdown",
   "id": "a22b87b7",
   "metadata": {
    "solution2": "hidden",
    "solution2_first": true
   },
   "source": [
    "### Exercise 4.2.8\n",
    "\n",
    "Calculate the *p*-value of observing a difference in mean horn lengths as unusually high as 1.71 mm if the null hypothesis were true.\n",
    "\n",
    "*Hint:*\n",
    "Again, you may find it useful to copy and paste the code from [Self-study notebook 4.2](../4.2%20-%20Comparing%20two%20population%20means.ipynb#Probability-of-observing-a-difference-as-unusually-high-as-0.49-mm-if-the-null-hypothesis-were-true:-The-p-value). But be sure to change the name of the DataFrame to `lizards`, change `1976` to `living` and `1978` to `killed`, change the value of `mu` to 23 and the value of `sigma` to 2.5.\n",
    "\n",
    "<div class=\"alert alert-info\">\n",
    "Your answer should be about 0.0083\n",
    "</div>"
   ]
  },
  {
   "cell_type": "code",
   "execution_count": null,
   "id": "021dc9f1",
   "metadata": {
    "solution2": "hidden"
   },
   "outputs": [],
   "source": [
    "# Set a tally for the number of times the absolute value of the d-statistic is at least 1.71 mm\n",
    "count = 0\n",
    "\n",
    "# Loop through all simulated values of d\n",
    "for d in ds:\n",
    "    \n",
    "    # Increment tally if d is greater than 1.71 or less than -1.71\n",
    "    if d > d_obs:\n",
    "        count += 1\n",
    "        \n",
    "# Calculate the p-value \n",
    "# (the number of samples in which the difference is at least 1.71 divided by the total number of samples)\n",
    "p_value = count / len(ds)\n",
    "\n",
    "# Print the p-value\n",
    "print(f'p-value = {p_value:.4f}')"
   ]
  },
  {
   "cell_type": "code",
   "execution_count": null,
   "id": "1045cd6e",
   "metadata": {},
   "outputs": [],
   "source": []
  },
  {
   "cell_type": "markdown",
   "id": "d5d59214",
   "metadata": {
    "solution2": "hidden",
    "solution2_first": true
   },
   "source": [
    "### Exercise 4.2.9\n",
    "\n",
    "The gene for the vasopressin receptor V1a is expressed at higher levels in the forebrain of monogamous vole species than in promiscuous vole species. Can expression of this gene influence monogamy? To test this, researchers experimentally enhanced V1a expression in the forebrain of 15 males of the meadow vole, a solitary promiscuous species. The percentage of time each male spent huddling with the female provided to him (an index of monogamy) was recorded. The same measurements were taken in 20 control males left untreated.\n",
    "<br>\n",
    "<br>\n",
    "<div>\n",
    "<img src=\"attachment:MeadowVoleNASideView.jpeg\" width='50%' title=\"\"/>\n",
    "</div>\n",
    "\n",
    "1. Write down a biological hypothesis for the researcher's question. "
   ]
  },
  {
   "cell_type": "markdown",
   "id": "5647033a",
   "metadata": {
    "solution2": "hidden"
   },
   "source": [
    "Biological hypothesis: Higher levels of expression of the vasopressin receptor V1a in the forebrain of voles causes more promiscuous behaviour."
   ]
  },
  {
   "cell_type": "markdown",
   "id": "1d33dfa3",
   "metadata": {},
   "source": [
    "> *Write your answer here.*\n",
    "\n"
   ]
  },
  {
   "cell_type": "markdown",
   "id": "291595b3",
   "metadata": {
    "solution2": "hidden",
    "solution2_first": true
   },
   "source": [
    "### Exercise 4.2.10\n",
    "\n",
    "1. Write down a null hypothesis and an alternative hypothesis for the researcher's question. "
   ]
  },
  {
   "cell_type": "markdown",
   "id": "067ca1db",
   "metadata": {
    "solution2": "hidden"
   },
   "source": [
    "Null hypothesis: The mean percentage of time spent huddling females is the same in voles with experimentally enhanced V1a expression and untreated control voles. \n",
    "\n",
    "Alternative hypothesis: The mean percentage of time spent huddling females is different in voles with experimentally enhanced V1a expression and untreated control voles.\n"
   ]
  },
  {
   "cell_type": "markdown",
   "id": "906ed4a8",
   "metadata": {},
   "source": [
    "> *Write your answer here.*\n"
   ]
  },
  {
   "cell_type": "markdown",
   "id": "96c4ae68",
   "metadata": {
    "solution2": "hidden",
    "solution2_first": true
   },
   "source": [
    "### Exercise 4.2.11\n",
    "\n",
    "The data collected by the researchers are in the file `Datasets/voles.csv`.\n",
    "\n",
    "1. Read the data into a DataFrame called `voles`. \n",
    "2. Plot annotated histograms and box plots of percentage huddling times of control and treated voles."
   ]
  },
  {
   "cell_type": "code",
   "execution_count": null,
   "id": "da37b639",
   "metadata": {
    "solution2": "hidden"
   },
   "outputs": [],
   "source": [
    "import pandas as pd\n",
    "import seaborn as sns\n",
    "\n",
    "# Read in the dataset of percentage huddling times of control and treated voles\n",
    "voles = pd.read_csv('Datasets/voles.csv')\n",
    "\n",
    "# Plot histograms of percentage huddling times of control and treated voles\n",
    "g = sns.displot(voles)\n",
    "\n",
    "# Add some annotation\n",
    "g.ax.set_xlabel('Percentage huddling time')\n",
    "g.ax.set_ylabel('Number of voles')\n",
    "g.ax.set_title('Frequency distributions of percentage huddling times of voles')\n",
    "g.legend.set_title('Treatment');\n",
    "\n",
    "g = sns.catplot(data=voles, kind='box')\n",
    "g.ax.set_xlabel('Treatment')\n",
    "g.ax.set_ylabel('Percentage huddling time')\n",
    "g.ax.set_title('Distributions of percentage huddling times of voles');\n"
   ]
  },
  {
   "cell_type": "code",
   "execution_count": null,
   "id": "4e08281b",
   "metadata": {},
   "outputs": [],
   "source": []
  },
  {
   "cell_type": "markdown",
   "id": "473fecc9",
   "metadata": {
    "solution2": "hidden",
    "solution2_first": true
   },
   "source": [
    "### Exercise 4.2.12\n",
    "\n",
    "1. Calculate and print the sample sizes, means and standard deviations to the appropriate number of decimal places.\n",
    "\n",
    "<div class=\"alert alert-info\">\n",
    "Your answers should be \n",
    "\n",
    "    Sample sizes\n",
    "    control    20\n",
    "    treated    15\n",
    "\n",
    "    Sample means (%)\n",
    "    control    75.92\n",
    "    treated    74.47\n",
    "\n",
    "    Sample standard deviations (%)\n",
    "    control    5.17\n",
    "    treated    4.55\n",
    "</div>"
   ]
  },
  {
   "cell_type": "code",
   "execution_count": null,
   "id": "4ed8b905",
   "metadata": {
    "solution2": "hidden"
   },
   "outputs": [],
   "source": [
    "n = voles.count()\n",
    "xbar = voles.mean()\n",
    "s = voles.std()\n",
    "\n",
    "print('Sample sizes')\n",
    "print(n)\n",
    "print() # Blank line\n",
    "\n",
    "print('Sample means (%)')\n",
    "print(round(xbar, 2))\n",
    "print() # Blank line\n",
    "\n",
    "print('Sample standard deviations (%)')\n",
    "print(round(s, 2))"
   ]
  },
  {
   "cell_type": "code",
   "execution_count": null,
   "id": "0f8f3ea4",
   "metadata": {},
   "outputs": [],
   "source": []
  },
  {
   "cell_type": "markdown",
   "id": "52052ceb",
   "metadata": {
    "solution2": "hidden",
    "solution2_first": true
   },
   "source": [
    "### Exercise 4.2.13\n",
    "\n",
    "In order to test the null hypothesis, use the *d*-statistic, the absolute difference in the sample means, as the test statistic. \n",
    "\n",
    "1. Calculate and print the *d*-statistic.\n",
    "\n",
    "<div class=\"alert alert-info\">\n",
    "Your answers should be \n",
    "\n",
    "    difference in percentage huddling times = 1.45%\n",
    "</div>"
   ]
  },
  {
   "cell_type": "code",
   "execution_count": null,
   "id": "276f9830",
   "metadata": {
    "solution2": "hidden"
   },
   "outputs": [],
   "source": [
    "d = abs(xbar['control'] - xbar['treated'])\n",
    "\n",
    "print(f'difference in percentage huddling times = {d:.2f}%')"
   ]
  },
  {
   "cell_type": "code",
   "execution_count": null,
   "id": "9fab85c0",
   "metadata": {},
   "outputs": [],
   "source": []
  },
  {
   "cell_type": "markdown",
   "id": "6a970e8d",
   "metadata": {
    "solution2": "hidden",
    "solution2_first": true
   },
   "source": [
    "### Exercise 4.2.14\n",
    "\n",
    "1. Assuming the null hypothesis were true, simulate the sampling distribution of the *d*-statistic.\n",
    "\n",
    "    - **Assume the following:** That the populations of percentage huddling times of control and treated voles are identical and normal with mean $\\mu$ = 75% and standard deviation $\\sigma$ = 5%.\n",
    "<br>\n",
    "<br>\n",
    "2. Create a histogram using 100,000 simulated samples of the sampling distribution of the *d*-statistic."
   ]
  },
  {
   "cell_type": "code",
   "execution_count": null,
   "id": "758aa842",
   "metadata": {
    "solution2": "hidden"
   },
   "outputs": [],
   "source": [
    "import seaborn as sns\n",
    "from numpy.random import normal\n",
    "\n",
    "# Store the observed difference in sample mean percentage huddling times in d_obs to avoid hard-coding data\n",
    "xbar = voles.mean()\n",
    "d_obs = abs(xbar['control'] - xbar['treated'])\n",
    "\n",
    "# Sample sizes from the study  \n",
    "n = voles.count()\n",
    "n_control = n['control']\n",
    "n_treated = n['treated']\n",
    "\n",
    "# Set the populations's parameters. As we are assuming that the null model were true, both populations have identical parameters.\n",
    "mu = 75\n",
    "sigma = 5\n",
    "\n",
    "# Set the number of samples to 100,000.\n",
    "number_of_samples = 100000\n",
    "\n",
    "# 100,000 random samples of 20 percentage huddling times each from the control population\n",
    "samples_control = normal(mu, sigma, (n_control, number_of_samples))\n",
    "# 100,000 random samples of 15 percentage huddling times each from the treated population\n",
    "samples_treated = normal(mu, sigma, (n_treated, number_of_samples))\n",
    "\n",
    "# Calculate all sample means\n",
    "xbars_control = samples_control.mean(axis=0)\n",
    "xbars_treated = samples_treated.mean(axis=0)\n",
    "\n",
    "# Calculate the d-statistic for each pair of samples\n",
    "ds = abs(xbars_control - xbars_treated)\n",
    "\n",
    "# Sampling distribution of the d-statistic\n",
    "g = sns.displot(ds, bins=50, stat='proportion')\n",
    "\n",
    "# Add some annotation\n",
    "g.ax.set_xlabel('$d$-statistic, difference in sample means (%)')\n",
    "g.ax.set_title('Sampling distribution of the $d$-statistic\\nassuming null hypothesis were true')\n",
    "g.ax.annotate(f'{d_obs:.2f} mm', (d_obs, 0), (0.5, 0.5), textcoords='axes fraction', color='magenta', fontsize=12, arrowprops={'arrowstyle':'-|>', 'color':'magenta'}, ha='center'); # Add an arrow"
   ]
  },
  {
   "cell_type": "code",
   "execution_count": null,
   "id": "bacc556e",
   "metadata": {},
   "outputs": [],
   "source": []
  },
  {
   "cell_type": "markdown",
   "id": "71811604",
   "metadata": {
    "solution2": "hidden",
    "solution2_first": true
   },
   "source": [
    "### Exercise 4.2.15\n",
    "\n",
    "By eye-balling the null distribution you just plotted, do you think it unusual to observe a difference in sample mean percentage huddling times of at least 1.45% if the null hypothesis were true?"
   ]
  },
  {
   "cell_type": "markdown",
   "id": "f8e48fa8",
   "metadata": {
    "solution2": "hidden"
   },
   "source": [
    "A difference of at least 1.45% in huddling times appears likely if the null hypothesis were true as 1.45% does not lie far into the lower and upper tails. "
   ]
  },
  {
   "cell_type": "markdown",
   "id": "4e503399",
   "metadata": {},
   "source": [
    "> *Write your answer here.*\n"
   ]
  },
  {
   "cell_type": "markdown",
   "id": "335d4bd1",
   "metadata": {
    "solution2": "hidden",
    "solution2_first": true
   },
   "source": [
    "### Exercise 4.2.16\n",
    "\n",
    "Calculate the *p*-value of observing a difference in mean percentage huddling times as unusually high as 1.45% if the null hypothesis were true.\n",
    "\n",
    "<div class=\"alert alert-info\">\n",
    "Your answer should be about 0.40\n",
    "</div>"
   ]
  },
  {
   "cell_type": "code",
   "execution_count": null,
   "id": "34fc7b8b",
   "metadata": {
    "solution2": "hidden"
   },
   "outputs": [],
   "source": [
    "# Set a tally for the number of times the absolute value of the d-statistic is at least 1.45%\n",
    "count = 0\n",
    "\n",
    "# Loop through all simulated values of d\n",
    "for d in ds:\n",
    "    \n",
    "    # Increment tally if d is greater than 1.45% or less than -1.45%\n",
    "    if d > d_obs:\n",
    "        count += 1\n",
    "        \n",
    "# Calculate the p-value \n",
    "# (the number of samples in which the difference is at least 1.45 divided by the total number of samples)\n",
    "p_value = count / len(ds)\n",
    "\n",
    "# Print the p-value\n",
    "print(f'p-value = {p_value:.2f}')"
   ]
  },
  {
   "cell_type": "code",
   "execution_count": null,
   "id": "a081c9a6",
   "metadata": {},
   "outputs": [],
   "source": []
  },
  {
   "cell_type": "markdown",
   "id": "b1d4c44a",
   "metadata": {},
   "source": [
    "## Next Notebook"
   ]
  },
  {
   "cell_type": "markdown",
   "id": "54e67abb",
   "metadata": {},
   "source": [
    "[Two sample t-test in practice](../4.3%20-%20Two%20sample%20t-test%20in%20practice.ipynb)"
   ]
  }
 ],
 "metadata": {
  "kernelspec": {
   "display_name": "Python 3 (ipykernel)",
   "language": "python",
   "name": "python3"
  },
  "language_info": {
   "codemirror_mode": {
    "name": "ipython",
    "version": 3
   },
   "file_extension": ".py",
   "mimetype": "text/x-python",
   "name": "python",
   "nbconvert_exporter": "python",
   "pygments_lexer": "ipython3",
   "version": "3.9.13"
  }
 },
 "nbformat": 4,
 "nbformat_minor": 5
}
