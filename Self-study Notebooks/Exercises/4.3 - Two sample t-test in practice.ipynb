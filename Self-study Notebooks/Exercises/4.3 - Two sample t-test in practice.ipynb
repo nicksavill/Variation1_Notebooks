{
 "cells": [
  {
   "cell_type": "markdown",
   "id": "0b0e1dbf",
   "metadata": {
    "solution2": "hidden",
    "solution2_first": true
   },
   "source": [
    "### Exercise 4.3.1\n",
    "<br>\n",
    "<br>\n",
    "<div>\n",
    "<img src=\"attachment:lizard.jpg\" width='50%' title=\"\"/>\n",
    "</div>\n",
    "\n",
    "1. Import pandas and import ttest_ind from scipy.stats\n",
    "2. Read the horned lizard data (`Datasets/horned lizards.csv`) into a DataFrame called `lizards`.\n",
    "3. Calculate and print the difference between sample mean horn lengths of living and killed lizards.\n",
    "4. Perform a two-sample *t*-test and print out the *t*-statistic and the *p*-value.\n",
    "\n",
    "<div class=\"alert alert-info\">\n",
    "Your answers should be \n",
    "\n",
    "    Difference in sample mean horn lengths is 1.71 mm\n",
    "    t-statistic = 2.56\n",
    "    p-value = 0.013\n",
    "</div>"
   ]
  },
  {
   "cell_type": "code",
   "execution_count": null,
   "id": "1efd0278",
   "metadata": {
    "solution2": "hidden"
   },
   "outputs": [],
   "source": [
    "import pandas as pd\n",
    "from scipy.stats import ttest_ind # import the two sample t-test function\n",
    "\n",
    "lizards = pd.read_csv('Datasets/horned lizards.csv')\n",
    "\n",
    "xbar = lizards.mean()\n",
    "d = xbar['living'] - xbar['killed']\n",
    "print(f'Difference in sample mean horn lengths is {d:.2f} mm')\n",
    "\n",
    "# Perform the two sample t-test\n",
    "t, p = ttest_ind(lizards['living'], lizards['killed'], nan_policy='omit')\n",
    "\n",
    "# Print the t statistic to 2dp\n",
    "print(f't-statistic = {t:.2f}')\n",
    "\n",
    "# Print the p-value to 4dp\n",
    "print(f'p-value = {p:.3f}')"
   ]
  },
  {
   "cell_type": "code",
   "execution_count": null,
   "id": "5e816ae7",
   "metadata": {},
   "outputs": [],
   "source": []
  },
  {
   "cell_type": "markdown",
   "id": "06d4ebd1",
   "metadata": {
    "solution2": "hidden",
    "solution2_first": true
   },
   "source": [
    "### Exercise 4.3.2\n",
    "\n",
    "Report the outcome of your statistical test."
   ]
  },
  {
   "cell_type": "markdown",
   "id": "62b473e1",
   "metadata": {
    "solution2": "hidden"
   },
   "source": [
    "A statistically significant difference of 1.71 mm was found between horn lengths of living and killed horned lizards (*t* = 2.56, *p* = 0.013). This evidence supports the hypothesis that horns offer some protection against predation by the loggerhead shrike."
   ]
  },
  {
   "cell_type": "markdown",
   "id": "5a81afe7",
   "metadata": {},
   "source": [
    "> Write your answer here.\n"
   ]
  },
  {
   "cell_type": "markdown",
   "id": "ea82945e",
   "metadata": {
    "solution2": "hidden",
    "solution2_first": true
   },
   "source": [
    "### Exercise 4.3.3\n",
    "\n",
    "<br>\n",
    "<br>\n",
    "<div>\n",
    "<img src=\"attachment:MeadowVoleNASideView.jpeg\" width='50%' title=\"\"/>\n",
    "</div>\n",
    "\n",
    "1. Import pandas and import ttest_ind from scipy.stats\n",
    "2. Read the vasopressin voles data (`Datasets/voles.csv`) into a DataFrame called `voles`.\n",
    "3. Calculate and print the difference between mean percentage huddling times control and treated voles.\n",
    "4. Perform a two-sample *t*-test and print out the *t*-statistic and the *p*-value.\n",
    "\n",
    "<div class=\"alert alert-info\">\n",
    "Your answers should be \n",
    "\n",
    "    Difference in sample mean percentage huddling time 1.45\n",
    "    t-statistic = 0.87\n",
    "    p-value = 0.39\n",
    "</div>"
   ]
  },
  {
   "cell_type": "code",
   "execution_count": null,
   "id": "514f63df",
   "metadata": {
    "solution2": "hidden"
   },
   "outputs": [],
   "source": [
    "import pandas as pd\n",
    "from scipy.stats import ttest_ind # import the two sample t-test function\n",
    "\n",
    "voles = pd.read_csv('Datasets/voles.csv')\n",
    "\n",
    "xbar = voles.mean()\n",
    "d = xbar['control'] - xbar['treated']\n",
    "print(f'Difference in sample mean percentage huddling time {d:.2f}')\n",
    "\n",
    "# Perform the two sample t-test\n",
    "t, p = ttest_ind(voles['control'], voles['treated'], nan_policy='omit')\n",
    "\n",
    "# Print the t statistic to 2dp\n",
    "print(f't-statistic = {t:.2f}')\n",
    "\n",
    "# Print the p-value to 4dp\n",
    "print(f'p-value = {p:.2f}')"
   ]
  },
  {
   "cell_type": "code",
   "execution_count": null,
   "id": "0a7117d3",
   "metadata": {},
   "outputs": [],
   "source": []
  },
  {
   "cell_type": "markdown",
   "id": "1cc7a3d1",
   "metadata": {
    "solution2": "hidden",
    "solution2_first": true
   },
   "source": [
    "### Exercise 4.3.4\n",
    "\n",
    "Report the outcome of your statistical test."
   ]
  },
  {
   "cell_type": "markdown",
   "id": "1fa8d2f5",
   "metadata": {
    "solution2": "hidden"
   },
   "source": [
    "A non-significant difference of 1.45% was found between percentage huddling times of voles with enhanced V1a vasopressin expression and untreated control voles (*t* = 0.87, *p* = 0.39). We fail to reject the null hypothesis that the mean percentage of time spent huddling females is the same in voles with experimentally enhanced V1a expression and untreated control voles."
   ]
  },
  {
   "cell_type": "markdown",
   "id": "8d3f21d6",
   "metadata": {},
   "source": [
    "> Write your answer here.\n"
   ]
  },
  {
   "cell_type": "markdown",
   "id": "545cdb01",
   "metadata": {},
   "source": [
    "## This is the end of this week's Notebooks"
   ]
  }
 ],
 "metadata": {
  "kernelspec": {
   "display_name": "Python 3 (ipykernel)",
   "language": "python",
   "name": "python3"
  },
  "language_info": {
   "codemirror_mode": {
    "name": "ipython",
    "version": 3
   },
   "file_extension": ".py",
   "mimetype": "text/x-python",
   "name": "python",
   "nbconvert_exporter": "python",
   "pygments_lexer": "ipython3",
   "version": "3.9.13"
  }
 },
 "nbformat": 4,
 "nbformat_minor": 5
}
